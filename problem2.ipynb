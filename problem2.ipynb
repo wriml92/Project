{
 "cells": [
  {
   "cell_type": "code",
   "execution_count": 9,
   "id": "8c2e124c-2ec8-4c41-8fb8-d46dd2176ea2",
   "metadata": {},
   "outputs": [
    {
     "name": "stdin",
     "output_type": "stream",
     "text": [
      "이름은 무엇입니까? 정재혁\n",
      "성별은 무엇입니까? (male/female) 남성\n"
     ]
    },
    {
     "name": "stdout",
     "output_type": "stream",
     "text": [
      "'male' 또는 'female'만을 입력하셔야 됩니다.\n"
     ]
    },
    {
     "name": "stdin",
     "output_type": "stream",
     "text": [
      "성별은 무엇입니까? (male/female) male\n",
      "몇 살이십니까? 32\n"
     ]
    },
    {
     "name": "stdout",
     "output_type": "stream",
     "text": [
      "이름은 정재혁, 성별은 male이며,\n",
      "나이는 32살입니다.\n",
      "안녕하세요, 정재혁님! 성인이시군요!\n"
     ]
    }
   ],
   "source": [
    "class Person:  # Person 클래스 정의\n",
    "    def __init__(self, name, gender, age): # 속성을 초기화하는 메서드\n",
    "        self.name = name  # 이름 속성 \n",
    "        self.gender = gender  # 성별 속성\n",
    "        self.age = age  # 나이 속성\n",
    "        \n",
    "    def display(self):  # display 메서드 정의\n",
    "        return f\"이름은 {self.name}, 성별은 {self.gender}이며,\\n나이는 {self.age}살입니다.\"  # 이름, 성별, 나이 출력\n",
    "\n",
    "    def greet(self):  # greet 메서드 정의\n",
    "        if self.age >= 20:  # 나이가 20살 이상일 경우\n",
    "            return f\"안녕하세요, {self.name}님! 성인이시군요!\"  # 성인 인사문\n",
    "        else: # 나이가 20살 미만일 경우\n",
    "            return f\"안녕하세요, {self.name}님! 미성년자이시군요!\"  # 미성년자 인사문\n",
    "        \n",
    "name = input(\"이름은 무엇입니까?\")  # 이름 입력\n",
    "while True:  # 성별 반복문\n",
    "    gender = input(\"성별은 무엇입니까? (male/female)\")  # 성별 입력\n",
    "    if gender != 'male' and gender != 'female':  # male 또는 female이 아닐 경우\n",
    "        print(\"'male' 또는 'female'만을 입력하셔야 됩니다.\")  # 성별을 다시 입력하라는 문자열 출력\n",
    "        continue # 반복문 다시 재개\n",
    "    else:  # male 또는 female일 경우\n",
    "        break  # 반복문 탈출\n",
    "age = int(input(\"몇 살이십니까?\"))  # 나이 입력\n",
    "\n",
    "my_name = Person(name, gender, age)  # 이름,성별,나이 속성을 가진 my_name 객체 생성\n",
    "print(my_name.display())  # my_name 객체가 display 메서드 사용하여 출력\n",
    "print(my_name.greet())  # my_name 객체가 greet 메서드 사용하여 출력"
   ]
  }
 ],
 "metadata": {
  "kernelspec": {
   "display_name": "pandas_course",
   "language": "python",
   "name": "pandas_course"
  },
  "language_info": {
   "codemirror_mode": {
    "name": "ipython",
    "version": 3
   },
   "file_extension": ".py",
   "mimetype": "text/x-python",
   "name": "python",
   "nbconvert_exporter": "python",
   "pygments_lexer": "ipython3",
   "version": "3.12.5"
  }
 },
 "nbformat": 4,
 "nbformat_minor": 5
}
