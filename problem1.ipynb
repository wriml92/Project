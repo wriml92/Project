{
 "cells": [
  {
   "cell_type": "code",
   "execution_count": 18,
   "id": "5ac5ce56-10cb-4c33-97f6-c88be8370856",
   "metadata": {},
   "outputs": [
    {
     "name": "stdout",
     "output_type": "stream",
     "text": [
      "1과 10 사이의 숫자 중 하나를 입력해 주십시오.\n"
     ]
    },
    {
     "name": "stdin",
     "output_type": "stream",
     "text": [
      "예상 숫자:  5\n"
     ]
    },
    {
     "name": "stdout",
     "output_type": "stream",
     "text": [
      "5보다 큽니다. 다시 입력하세요.\n"
     ]
    },
    {
     "name": "stdin",
     "output_type": "stream",
     "text": [
      "예상 숫자:  8\n"
     ]
    },
    {
     "name": "stdout",
     "output_type": "stream",
     "text": [
      "8보다 큽니다. 다시 입력하세요.\n"
     ]
    },
    {
     "name": "stdin",
     "output_type": "stream",
     "text": [
      "예상 숫자:  10\n"
     ]
    },
    {
     "name": "stdout",
     "output_type": "stream",
     "text": [
      "10가 정답입니다.\n"
     ]
    },
    {
     "name": "stdin",
     "output_type": "stream",
     "text": [
      "게임을 다시 하시겠습니까? (yes/no):  yes\n"
     ]
    },
    {
     "name": "stdout",
     "output_type": "stream",
     "text": [
      "1과 10 사이의 숫자 중 하나를 입력해 주십시오.\n"
     ]
    },
    {
     "name": "stdin",
     "output_type": "stream",
     "text": [
      "예상 숫자:  15\n"
     ]
    },
    {
     "name": "stdout",
     "output_type": "stream",
     "text": [
      "15은 범위를 벗어난 숫자입니다. 다시 입력하세요.\n"
     ]
    },
    {
     "name": "stdin",
     "output_type": "stream",
     "text": [
      "예상 숫자:  5\n"
     ]
    },
    {
     "name": "stdout",
     "output_type": "stream",
     "text": [
      "5보다 큽니다. 다시 입력하세요.\n"
     ]
    },
    {
     "name": "stdin",
     "output_type": "stream",
     "text": [
      "예상 숫자:  15\n"
     ]
    },
    {
     "name": "stdout",
     "output_type": "stream",
     "text": [
      "15은 범위를 벗어난 숫자입니다. 다시 입력하세요.\n"
     ]
    },
    {
     "name": "stdin",
     "output_type": "stream",
     "text": [
      "예상 숫자:  8\n"
     ]
    },
    {
     "name": "stdout",
     "output_type": "stream",
     "text": [
      "8보다 큽니다. 다시 입력하세요.\n"
     ]
    },
    {
     "name": "stdin",
     "output_type": "stream",
     "text": [
      "예상 숫자:  10\n"
     ]
    },
    {
     "name": "stdout",
     "output_type": "stream",
     "text": [
      "10가 정답입니다.\n"
     ]
    },
    {
     "name": "stdin",
     "output_type": "stream",
     "text": [
      "게임을 다시 하시겠습니까? (yes/no):  no\n"
     ]
    },
    {
     "name": "stdout",
     "output_type": "stream",
     "text": [
      "게임을 종료합니다. 다음에 또 만나요!\n"
     ]
    }
   ],
   "source": [
    "import random as rd # 랜덤 모듈 불러옴\n",
    "\n",
    "while True: # 게임이 끝나도 다시 하기 위해 while문 생성\n",
    "    cpu_random = rd.randint(1, 10)  # 컴퓨터가 1부터 10까지 숫자 중 랜덤으로 하나 저장\n",
    "    print(\"1과 10 사이의 숫자 중 하나를 입력해 주십시오.\") # 숫자 정했다고 알려줌\n",
    "    \n",
    "    while True:  # 컴퓨터 숫자가 내가 입력한 숫자가 같지 않을 경우 반복\n",
    "        input_num = int(input(\"예상 숫자: \"))  # 예상 숫자 입력하고 저장\n",
    "        if input_num in list(range(1, 11)):  # 입력한 숫자가 범위 안에 있을 경우\n",
    "            if input_num < cpu_random:  # 입력한 숫자가 컴퓨터 숫자보다 클 경우\n",
    "                print(f\"{input_num}보다 큽니다. 다시 입력하세요.\") # 크다고 알려줌\n",
    "                continue  # 예상 숫자 다시 입력하기 위해 되돌아감\n",
    "            elif input_num > cpu_random:  # 입력한 숫자가 컴퓨터 숫자보다 작을 경우\n",
    "                print(f\"{input_num}보다 작습니다. 다시 입력하세요.\") # 작다고 알려줌\n",
    "                continue  # 예상 숫자 다시 입력하기 위해 되돌아감\n",
    "            else:  # 입력한 숫자가 컴퓨터 숫자와 일치할 경우\n",
    "                print(f\"{input_num}가 정답입니다.\")  # 정답이라고 출력\n",
    "                break  # 맞쳤으므로 반복문 벗어남\n",
    "        else:  # 입력한 숫자가 범위 외의 숫자일 경우\n",
    "            print(f\"{input_num}은 범위를 벗어난 숫자입니다. 다시 입력하세요.\") # 벗어났다고 알려주고 input_num 입력문으로 다시 되돌아감\n",
    "            \n",
    "    yes_no = input(\"게임을 다시 하시겠습니까? (yes/no): \") # 게임을 다시 할지 여부를 알려줌\n",
    "    if yes_no == \"yes\": # 게임을 다시 하고 싶을 경우\n",
    "        continue # 다시 첫 반복문부터 실행\n",
    "    elif yes_no == \"no\": # 게임을 그만 하고 싶을 경우\n",
    "        print(\"게임을 종료합니다. 다음에 또 만나요!\") # 게임 종료문 알림\n",
    "        break # 맨 위 while 반복문 벗어남"
   ]
  },
  {
   "cell_type": "code",
   "execution_count": null,
   "id": "dca7d4d7-29c8-4a27-839b-78056b099760",
   "metadata": {},
   "outputs": [],
   "source": [
    "    "
   ]
  }
 ],
 "metadata": {
  "kernelspec": {
   "display_name": "pandas_course",
   "language": "python",
   "name": "pandas_course"
  },
  "language_info": {
   "codemirror_mode": {
    "name": "ipython",
    "version": 3
   },
   "file_extension": ".py",
   "mimetype": "text/x-python",
   "name": "python",
   "nbconvert_exporter": "python",
   "pygments_lexer": "ipython3",
   "version": "3.12.5"
  }
 },
 "nbformat": 4,
 "nbformat_minor": 5
}
