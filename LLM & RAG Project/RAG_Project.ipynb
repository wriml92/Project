{
 "cells": [
  {
   "cell_type": "markdown",
   "id": "5f6ed09f-2899-45df-b3ba-3ec3c118b161",
   "metadata": {},
   "source": [
    "# 서론"
   ]
  },
  {
   "cell_type": "markdown",
   "id": "09fc3405-8a6f-407e-96d4-8d2bd19430d5",
   "metadata": {},
   "source": [
    "&emsp;이번에 LLM과 RAG 기술을 활용해 사용자 질문에 답변하는 OpenAI의 gpt-4o 모델을 기반으로 하는 챗봇을 만들게 되었습니다. 데이터 리스트로는 초거대 언어모델 연구 동향이라는 논문을 사용했습니다. 이번 챗봇을 구축하면서 LLM과 RAG에 배운 내용을 복습하였으며, 배운 내용에서 pdf 형식의 문서를 불러와 RAG을 구축하는 걸 목표로 했습니다.   \n",
    "&emsp;데이터 리스트로 쓰인 초거대 언어모델 연구 동향은 LLM 요소에 익숙해지기 좋은 자료로 LLM에 업데이트 되어있지 않은 최신 인공지능 연구동향에 대해 정확히 답변할 수 있는 챗봇을 만들 수 있었습니다."
   ]
  },
  {
   "cell_type": "markdown",
   "id": "078b8325-ed7f-4d12-9191-c3de41f152f3",
   "metadata": {},
   "source": [
    "# 목차"
   ]
  },
  {
   "cell_type": "markdown",
   "id": "adb6b906-2c00-4d0c-98b5-341ecaa91d8c",
   "metadata": {},
   "source": [
    "0. **필요한 모듈 불러오기**\n",
    "1. **사용환경 준비**\n",
    "2. **모델 로드하기**\n",
    "3. **문서 로드하기**\n",
    "4. **문서 청크로 나누기**\n",
    "   1. **CharacterTextSplitter**\n",
    "   2. **RecursiveCharacterTextSplitter**\n",
    "5. **벡터 임베딩 생성**\n",
    "6. **벡터 스토어 생성**\n",
    "7. **FAISS를 Retriever로 변환**\n",
    "8. **프롬프트 템플릿 정의**\n",
    "9. **RAG 체인 구성**\n",
    "10. **챗봇 구동 확인**"
   ]
  },
  {
   "cell_type": "markdown",
   "id": "41b6133a-4acc-49e8-831d-b198f7b41ba0",
   "metadata": {},
   "source": [
    "# 0. 필요한 모듈 불러오기\n",
    "&emsp;코드에 사용된 각 모듈과 라이브러리의 역할을 설명하며, 전체적인 흐름도 함께 안내합니다."
   ]
  },
  {
   "cell_type": "code",
   "execution_count": 8,
   "id": "176f45b9-3e00-4ee4-b3db-63ebd72e7995",
   "metadata": {},
   "outputs": [],
   "source": [
    "import os\n",
    "from getpass import getpass\n",
    "from langchain_openai import ChatOpenAI\n",
    "from langchain_core.messages import HumanMessage\n",
    "from langchain.document_loaders import PyPDFLoader\n",
    "from langchain.text_splitter import CharacterTextSplitter\n",
    "from langchain_text_splitters import RecursiveCharacterTextSplitter\n",
    "from langchain_openai import OpenAIEmbeddings\n",
    "from langchain_community.vectorstores import FAISS\n",
    "from langchain_core.prompts import ChatPromptTemplate\n",
    "from langchain.chains import LLMChain"
   ]
  },
  {
   "cell_type": "markdown",
   "id": "6f6f400b-428e-4c8b-a16d-52115b2ae216",
   "metadata": {},
   "source": [
    "- `os`:   \n",
    "&emsp;Python의 기본 모듈인 os는 파일 및 디렉터리와 관련된 다양한 작업을 수행할 수 있게 해줍니다. 예를 들어, 환경 변수 접근, 파일 경로 조작 등이 가능합니다.\n",
    "- `getpass`:   \n",
    "&emsp;getpass는 사용자로부터 안전하게 비밀번호를 입력받기 위한 모듈입니다. 터미널에 입력된 비밀번호를 표시하지 않고 읽을 수 있게 해줍니다. 이를 통해 OpenAI API 키와 같은 민감한 정보를 안전하게 입력받을 수 있습니다.\n",
    "- `ChatOpenAI`:   \n",
    "&emsp;OpenAI의 GPT 모델을 기반으로 동작하는 ChatOpenAI 클래스는 LangChain에서 대화형 AI를 구현하기 위해 사용됩니다. 이 클래스는 OpenAI의 대화형 API와 통합되어 텍스트 생성을 지원합니다.\n",
    "- `HumanMessage`:   \n",
    "&emsp;LangChain의 메시지 모델 중 하나로, 인간이 입력한 메시지를 표현합니다. 대화에서 사용자의 발화를 모델에 전달하는 데 사용됩니다.\n",
    "- `PyPDFLoader`:   \n",
    "&emsp;PDF 파일에서 텍스트 데이터를 추출하기 위한 모듈입니다. PDF 문서를 로드하고 내부 텍스트를 분석해 LangChain 워크플로우에서 사용할 수 있게 합니다.\n",
    "- `CharacterTextSplitter`:   \n",
    "&emsp;텍스트 데이터를 특정 문자 단위로 나누는 단순한 텍스트 분할기입니다. 텍스트를 처리하기 쉽게 조각으로 나누는 역할을 합니다.\n",
    "- `RecursiveCharacterTextSplitter`:   \n",
    "&emsp;CharacterTextSplitter의 확장 버전으로, 텍스트를 더 정교하게 분할합니다. 긴 텍스트를 처리하는 데 유용하며, 특정 기준을 기반으로 텍스트를 분할합니다.\n",
    "- `OpenAIEmbeddings`:   \n",
    "&emsp;텍스트 데이터를 벡터 형식으로 변환하여 의미적 비교가 가능하도록 만들어주는 모듈입니다. OpenAI API를 사용해 임베딩을 생성합니다.\n",
    "- `FAISS`:   \n",
    "&emsp;Facebook AI에서 개발한 빠른 벡터 검색 라이브러리입니다. 임베딩된 데이터를 효율적으로 검색하고 유사도를 계산하는 데 사용됩니다. FAISS는 검색과 분류 작업에서 특히 유용합니다.\n",
    "- `ChatPromptTemplate`:   \n",
    "&emsp;사용자와 AI 간의 대화를 정의하기 위한 템플릿입니다. LangChain에서 대화 흐름과 프롬프트 형식을 제어하는 데 사용됩니다.\n",
    "- `LLMChain`:   \n",
    "&emsp;LangChain의 핵심 구성 요소 중 하나로, 대규모 언어 모델(LLM)과의 상호작용을 체계화합니다. 프롬프트, 입력 데이터, 출력 데이터를 연결하여 워크플로우를 구성합니다."
   ]
  },
  {
   "cell_type": "markdown",
   "id": "f91e8864-b8e7-42fa-9842-90f54be63c6c",
   "metadata": {},
   "source": [
    "# 1. 사용환경 준비\n",
    "&emsp;코드에 사용된 각 모듈과 라이브러리의 역할을 설명하며, 전체적인 흐름도 함께 안내합니다."
   ]
  },
  {
   "cell_type": "code",
   "execution_count": 10,
   "id": "2a06877e-34e1-45c8-8445-a6759ab43842",
   "metadata": {},
   "outputs": [
    {
     "name": "stdout",
     "output_type": "stream",
     "text": [
      "OpenAI API key 입력:  ········\n"
     ]
    }
   ],
   "source": [
    "os.environ[\"OPENAI_API_KEY\"] = getpass.getpass(\"OpenAI API key 입력: \")"
   ]
  },
  {
   "cell_type": "markdown",
   "id": "3fdd00be-8c9e-4c58-9fbe-388f64e2cf77",
   "metadata": {},
   "source": [
    "&emsp;이 코드는 주로 LangChain을 사용하여 PDF 파일을 분석하고, 임베딩을 생성하며, 대화형 AI 워크플로우를 구축하는 데 사용됩니다. 이러한 구성 요소들은 대규모 언어 모델을 활용한 다양한 작업을 자동화하고 체계화하는 데 중요한 역할을 합니다."
   ]
  },
  {
   "cell_type": "markdown",
   "id": "dfbe5408-56c5-498d-8da9-7610cd482566",
   "metadata": {},
   "source": [
    "# 2. 모델 로드하기\n",
    "- 이 코드는 **LangChain** 라이브러리의 `ChatOpenAI` 클래스를 사용하여 **GPT-4 모델**의 인스턴스를 생성하는 코드입니다."
   ]
  },
  {
   "cell_type": "code",
   "execution_count": 12,
   "id": "c114a95c-b778-44c2-99af-8f53ffb8744e",
   "metadata": {},
   "outputs": [],
   "source": [
    "# 모델 초기화\n",
    "model = ChatOpenAI(model=\"gpt-4\")"
   ]
  },
  {
   "cell_type": "markdown",
   "id": "570d8459-835a-4dda-9087-cbbc08226209",
   "metadata": {},
   "source": [
    "- `ChatOpenAI` 클래스: LangChain에서 OpenAI GPT 모델을 사용하는 인터페이스 제공하는 클래스입니다.\n",
    "- `model=\"gpt-4\"`: GPT-4 모델을 지정하여 고성능 텍스트 생성 및 처리가 가능합니다.\n",
    "- 이 코드로 생성된 `model` 객체는 LangChain에서 텍스트 생성과 같은 다양한 자연어 처리 작업에 활용됩니다."
   ]
  },
  {
   "cell_type": "markdown",
   "id": "e58a74bc-356e-4ac3-b0c7-5d60b5fd3db2",
   "metadata": {},
   "source": [
    "# 3. 문서 로드하기\n",
    "&emsp;이 코드는 **PDF 파일에서 텍스트 데이터를 읽어와 처리**하기 위해 LangChain의 `PyPDFLoader` 클래스를 사용하는 코드입니다."
   ]
  },
  {
   "cell_type": "code",
   "execution_count": 14,
   "id": "e44e23a8-0d14-441e-9480-46b21a497fbc",
   "metadata": {},
   "outputs": [],
   "source": [
    "# PDF 파일 로드. 파일의 경로 입력\n",
    "loader = PyPDFLoader(\"LLM_movement.pdf\")\n",
    "\n",
    "# 페이지 별 문서 로드\n",
    "docs = loader.load()"
   ]
  },
  {
   "cell_type": "markdown",
   "id": "4c2b5aca-cd9e-4e1d-bd09-260fc3c841d6",
   "metadata": {},
   "source": [
    "- `PyPDFLoader`는 PDF 파일에서 텍스트를 추출하고 문서 객체 리스트로 반환하는 LangChain의 강력한 도구입니다.\n",
    "- `loader.load()`는 페이지별 텍스트와 메타데이터를 포함한 문서 리스트를 생성하며, 추출된 데이터는 텍스트 분할, 검색, 요약 등 다양한 작업에 활용됩니다."
   ]
  },
  {
   "cell_type": "markdown",
   "id": "162e7916-3aef-4b9f-8b6f-80c90801456a",
   "metadata": {},
   "source": [
    "# 4. 문서 청크로 나누기\n",
    "&emsp;문서 청킹하는 방법으로는 CharacterTextSplitter, RecursiveCharacterTextSplitter 이 두 가지가 있습니다. 저는 CharacterTextSplitter 방법으로 문서를 청킹하였습니다."
   ]
  },
  {
   "cell_type": "markdown",
   "id": "3a89b239-a593-40a1-9414-4b3b1ff87f76",
   "metadata": {},
   "source": [
    "## A. CharacterTextSplitter\n",
    "&emsp;이 코드는 **LangChain의 텍스트 분할기**를 사용하여 PDF 문서에서 추출된 텍스트 데이터를 <u>작은 조각(chunk)</u>으로 나누는 작업을 수행합니다."
   ]
  },
  {
   "cell_type": "code",
   "execution_count": 16,
   "id": "d4f97915-ffa0-4793-975a-373c26b9bc6b",
   "metadata": {},
   "outputs": [
    {
     "data": {
      "text/plain": [
       "[Document(metadata={'source': 'LLM_movement.pdf', 'page': 0}, page_content='8 특집원고  초거대 언어모델 연구 동향\\n초거대 언어모델 연구 동향\\n업스테이지  박찬준*･이원성･김윤기･김지후･이활석\\n \\n1. 서  론1)\\nChatGPT1)와 같은 초거대 언어모델(Large Language \\nModel, LLM) 의 등장으로 기존에 병렬적으로 연구되\\n던 다양한 자연언어처리 하위 분야들이 하나의 모델\\n로 처리되고 있으며, 태스크 수렴 현상 (Converge)이 \\n발생하고 있다. 즉 하나의 LLM으로 번역, 요약, 질의\\n응답, 형태소분석 등의 작업을 모두 처리할 수 있게 \\n되었다. 프롬프트 (Prompt)를 어떻게 모델에게 입력하\\n느냐에 따라서 LLM의 다양한 능력들이 창발되고, 이\\n에 따라 사용자의 목적에 맞는 출력을 생성하는 패러\\n다임을 맞이하게 되었다 [1].\\nLLM은 최근 몇 년 간의 연구 동향에 따라 뛰어난 \\n발전을 이루고 있다. 이러한 발전은 몇 가지 주요한 \\n요인에 기반하고 있으며, 이 요인들은 현대 자연언어\\n처리 (Natural Language Processing, NLP) 연구의 핵심\\n적인 추세로 간주된다. 첫째로, 데이터의 양적 확대는 \\n무시할 수 없는 중요한 요인이다. 디지털화의 선도로, \\n텍스트 데이터의 양이 기하급수적으로 증가하였고, \\n이는 연구의 질적 변화를 가져왔다. 대규모 코퍼스의 \\n활용은 LLM의 일반화 능력을 향상시키며, 다양한 맥\\n락과 주제에 대한 깊은 학습을 가능하게 한다. 둘째\\n로, 컴퓨팅 기술의 진보는 LLM의 발전에 있어 결정\\n적이었다. 특히, Graphics Processing Unit (GPU) 및 \\nTensor Processing Unit (TPU) 와 같은 고성능 병렬 처\\n리 하드웨어의 개발은 모델 학습에 있어 병목 현상을 \\n크게 완화시켰다. 이로 인해 연구자들은 모델의 복잡\\n성을 키우고, 더욱 깊은 신경망 구조를 탐구할 수 있\\n게 되었다. 셋째, 알고리즘 및 기술의 발전은 LLM의 \\n성능 향상을 주도하였다. Attention 및 Transformer \\nArchitecture의 도입은 연구자들에게 문맥 간의 관계\\n를 더욱 정교하게 모델링할 수 있는 방법을 제공하였\\n다 [2, 3]. 이 모든 변화의 중심에는 ‘scaling law’라는 \\n* 정회원\\n1) https://openai.com/blog/chatgpt\\n학문적인 통찰이 있다 [4]. 해당 연구에 따르면, 모델\\n의 크기와 그 성능은 긍정적인 상관 관계를 보인다. \\n이를 통해 연구자들은 모델의 파라미터 수를 증가시\\n키면서, 이에 따른 성능 향상을 기술적 진보의 상호 \\n작용에서 나온 결과이며, 이러한 추세는 앞으로도 \\nNLP 연구의 주요 동력이 될 것으로 예상된다.\\n연구단계를 넘어 LLM은 산업계에서도 많은 발전\\n을 이루어 내고 있다. LLM 은 교육, 의료, 금융, 제조 \\n등 거의 모든 산업 분야에서 광범위한 활용 가능성을 \\n제시하고 있다 [5, 6, 7, 8]. 교육 분야에서는 단순한 \\n정보 검색을 넘어, 개인화된 학습 경로를 추천하는 시\\n스템, 과제의 자동 평가, 학생들의 복잡한 질문에 대\\n한 답변 제공 등의 역할로 활용될 수 있다. 이는 교육\\n의 효율성과 개인화를 동시에 추구하는 현대의 교육 \\n트렌드와 맞물려 큰 효과를 발휘할 것으로 기대된다. \\n의료 분야에서는 환자 데이터를 기반으로 한 초기 진\\n단 도구로 활용될 뿐만 아니라, 복잡한 의료 기록 분\\n석, 신약 개발에 필요한 연구 데이터 분석, 또는 최신 \\n의학 연구 동향 파악 등의 다양한 역할을 수행할 수 \\n있다. 이로써 의료 전문가들의 결정을 보조하고, 효율\\n적인 치료 방향을 도모할 수 있게 된다. 금융 분야에\\n서는 개인의 투자 성향과 시장의 동향을 분석하여 투\\n자 권고를 제공하는 것 외에도, 금융 위험을 상세하게 \\n분석하거나, 복잡한 금융 거래를 자동화하는 시스템\\n의 핵심 구성 요소로서의 역할을 할 수 있다. 이는 금\\n융 서비스의 효율과 안전성 향상에 크게 기여할 것이\\n다. 제조 분야에서도 LLM은 설계 단계부터 생산, 품\\n질 관리에 이르기까지의 전 과정에서 데이터 분석 및 \\n최적화 도구로 활용될 수 있다. 생산 효율성 향상과 \\n제품 품질 향상을 도모하며, 고객의 니즈에 더욱 민첩\\n하게 대응할 수 있는 기회를 제공한다.\\n그러나, 이러한 긍정적인 측면들과 더불어 LLM의 \\n한계점과 위험성도 고려되어야 한다. LLM 은 학습 데\\n이터의 편향성을 그대로 반영할 수 있어, 편향된 결과\\n나 추천을 할 가능성이 있다 [9]. 이는 특히 중요한 의\\n특집원고'),\n",
       " Document(metadata={'source': 'LLM_movement.pdf', 'page': 1}, page_content='2023. 11 정보과학회지 9\\n사 결정을 위해 LLM을 활용하는 경우에 문제가 될 \\n수 있다. 또한, LLM 을 악의적인 목적으로 사용하는 \\n위험성도 있다 [10]. 예를 들면, 미스리딩 정보 생성이 \\n나 편향된 정보 전파를 위한 도구로 활용될 수 있다. \\n이 외에도 LLM의 동작 원리나 결과에 대한 설명력 \\n부족, 최신 정보를 반영하는 데의 한계 등 여러 문제\\n점이 있으며, 이러한 문제점들을 해결하는 것은 다가\\n오는 연구의 중요한 도전 과제로 여겨진다.\\n즉 편향성 (LLM은 학습 데이터에 포함된 편향을 \\n반영할 수 있음), 안전성 (LLM을 악의적인 목적으로 \\n사용할 수 있음), 설명 가능성 (LLM의 예측 결과를 \\n설명하기 어려움), 최신성 (최신정보를 반영하기 어려\\n움)의 문제점을 여전히 LLM의 한계점으로 보유하고 \\n있으며 이러한 문제는 장기적으로 해결하기 위해 연\\n구되어야할 것이다.\\n본 논문은 초거대 언어모델(LLM)에 대한 전반적인 \\n동향을 다루고자 작성되었다. 첫째로 초기의 언어모\\n델부터 현재의 초거대 언어모델까지의 연구 및 발전 \\n과정을 소개한다. 둘째로, 한국어 초거대 언어모델의 \\n특징 및 최근 동향을 조명한다. 셋째로, 최신 초거대 \\n언어모델 연구 동향을 심층적으로 살펴본다. 넷째로, \\n초거대 언어모델의 성능 평가 방식과 그 변화에 대해 \\n논의한다. 마지막으로, 초거대 언어모델 연구와 활용\\n에 있어 중요하게 여겨지는 윤리적 원칙과 관련된 \\n최근의 동향을 소개 한다. 본 논문을 통해 초거대 언\\n어모델에 관한 전반적인 동향과 중요한 주제들에 대\\n한 체계적인 이해를 제공하고, 이 분야의 연구자 및 \\n관련 전문가들에게 유용한 통찰과 지침을 제시하고자 \\n한다.\\n2. 언어모델부터 초거대언어모델까지\\n자연언어란 “인간의 언어”를 의미하며, 자연언어처\\n리는 자연언어를 컴퓨터가 처리하는 것을 의미한다. \\n자연언어처리를 위해서는 인간의 언어표현 체계를 컴\\n퓨터가 이해할 수 있는 형태로 변환해주는 것이 필요\\n하다. 이러한 역할을 하는 것이 바로 언어모델이다. \\n이번 섹션에서는 전통적인 언어모델 연구에 대해 먼\\n저 살펴보고, 의미기반 언어모델 연구, 문맥기반 언어\\n모델 연구, 초거대 언어모델 연구들에 대해 차례로 살\\n펴본다.\\n전통적인 언어모델 연구 전통적인 언어모델은 인간\\n이 사용하는 단어를 컴퓨터가 이해할 수 있는 숫자 \\n체계로 변환하는 데에 초점을 맞춰 발전했다. 이를 위\\n해 전통적인 언어모델은 단어 집합 (vocabulary)을 생\\n성하고, 단어 집합을 이용하여 자연언어를 컴퓨터가 \\n이해할 수 있는 형태로 변환했다. 단어 집합을 이용하\\n여 자연언어를 표현하는 전통적인 방법 중 대표적으\\n로 사용되는 방법은 원-핫 인코딩 (one-hot encoding)\\n이다. 원-핫 인코딩은 표현하고자 하는 단어의 색인 \\n(index)에만 1을 표시 하고, 다른 단어의 색인에는 0을 \\n표시하여 단어를 벡터로 나타내는 방법이다. 따라서, \\n원-핫 인코딩을 사용하면 모든 단어를 단어 집합의 \\n크기를 가지는 벡터로 표현할 수 있다. 이러한 벡터를 \\n희소 벡터 (sparse vector)라고 부른다. 예를 들어, 단\\n어 집합에 ‘강아지’, ‘ 고양이’라는 2개의 단어만 존재\\n한다고 했을 때, 원-핫 인코딩 방식으로 이를 표현하\\n면 ‘강아지’는 [1, 0], ‘ 고양이’는 [0, 1] 로 표현된다.\\n그러나, 원-핫 인코딩은 단어 간의 의미적인 연관성\\n을 고려할 수 없다는 치명적인 한계를 가진다. 예를 \\n들어, ‘ 강아지’와 ‘고양이’는 포유류 동물이며 사람들\\n에게 사랑받는 애완동물이라는 공통점을 가지고 있지\\n만, 원-핫 인코딩은 단어를 의미와는 관계없이 희소 \\n벡터 형태로 표현하다보니 이들 간의 의미적인 연관\\n성을 전혀 고려하지 못한다.\\n의미기반 언어모델 연구 단어 간의 의미적인 연관\\n성을 고려하여 언어를 표현하기 위해, 의미기반 언어\\n모델은 단어의 의미가 반영되도록 단어를 밀집 벡터 \\n(dense vector) 공간에 표현하는 데에 초점을 맞춰 발\\n전했다. 가장 대표적인 의미기반 언어모델은 Word2Vec \\n[11]이다. 이는 주변 단어들로부터 중심 단어를 예측\\n하거나 중심 단어로 주변 단어들을 예측하도록 학습\\n함으로써, 유사한 의미의 단어들을 밀집 벡터 공간 상 \\n가까운 거리에 분포하도록 학습시킨다. 이러한 패러\\n다임을 기반으로 GloVe [12]와 FastText [13]와 같은 \\n다양한 연구들이 이루어졌다.\\n이는 전통적인 언어모델의 한계를 극복했지만, 문\\n맥 정보를 이해하지 못한다는 한계를 가지고 있다. 예\\n를 들어, ‘ 사과를 먹고 싶다.’와 ‘내가 사과할게.’에서 \\n전자에서의 사과는 과일을 의미하지만, 후자에서의 \\n사과는 잘못을 인정하고 용서를 빈다는 의미를 지닌\\n다. 즉, 같은 문자임에도 사용되는 문맥에 따라 다른 \\n의미를 지닐 수 있다. 하지만, 의미기반 언어모델은 \\n같은 문자라면 같은 밀집 벡터로 표현하기 때문에 문\\n맥 정보를 반영하지 못한다는 한계를 지닌다.\\n문맥기반 언어모델 연구 문맥 정보를 반영하여 언\\n어를 표현하기 위해, 텍스트 내의 정보를 이용하는 \\nRNN (Recurrent Neural Network) 이 등장했다. 그러나, \\nRNN은 입력 텍스트의 길이가 길어질수록 앞쪽에 위'),\n",
       " Document(metadata={'source': 'LLM_movement.pdf', 'page': 2}, page_content='10 특집원고  초거대 언어모델 연구 동향\\n치하는 정보들을 기억하지 못하는 장기 의존성 문제\\n가 존재한다. 이러한 문제를 극복하기 위해, LSTM \\n(Long Short-Term Memory) [14] 과 GRU (Gated \\nRecurrent Unit) [15] 가 등장했다. 하지만, 이들은 모두 \\n텍스트에 존재하는 단방향 문맥 정보만 활용한다는 \\n한계를 지닌다.\\n양방향 문맥 정보를 활용하기 위해, ELMo [16] 는 \\n주어진 텍스트에 존재하는 순방향 문맥 정보와 역방\\n향 문맥 정보를 함께 활용하는 양방향 학습을 제안했\\n다. 이를 위해, ELMo 는 순방 향 LSTM과 역방향 \\nLSTM를 동시에 활용한다. 하지만, 이는 LSTM을 기\\n반으로 하기 때문에, LSTM이 지니는 다음과 같은 한\\n계를 그대로 가진다: 1) 하나의 벡터에 텍스트의 모든 \\n정보를 담기 때문에 정보 손실이 발생하고, 2) 입력 \\n텍스트의 길이가 길어지면 기울기 소실 (gradient \\nvanishing)이 발생한다.\\n이러한 한계를 해결하기 위해 나온 것이 바로 \\nAttention Mechanism [2] 과 이를 활용한 Transformer \\nArchitecture [3] 이다. Attention Mechanism 은 하나의 \\n벡터에 텍스트의 모든 정보를 담는 RNN, LSTM, \\nGRU와 다르게, 텍스트 내 단어들의 벡터들을 필요에 \\n따라 적절히 활용하는 메커니즘이다. 현재 언어모델\\n의 근간이 되는 Transformer가 바로 이러한 Atten- \\ntion Mechanism을 기반으로 한다. Transformer는 크게 \\n인코더와 디코더로 구성되는데, 인코더는 주어진 텍\\n스트를 이해하는 역할을 하고 디코더는 이해한 텍스\\n트를 기반으로 언어를 생성해내는 역할을 수행한다. \\n이러한 Transformer의 인코더를 기반으로 발전한 대표\\n적인 모델이 Google2)의 BERT (Bidirectional Encoder \\nRepresentations from Transformers) [17] 이고, 디코더\\n를 기반으로 발전한 대표적인 모델이 OpenAI3)의 \\nGPT (Generative Pretrained Transformer) [18] 이다.\\nBERT는 입력 텍스트의 약 15%에 해당하는 임의의 \\n토큰을 마스킹하고 마스킹된 토큰이 무엇인지 예측하\\n는 MLM (Masked Language Modeling) 방식으로 학습\\n된다. 한편, GPT 는 이전 텍스트를 기반으로 다음에 \\n나올 토큰이 무엇인지 예측하는 NTP (Next Token \\nPrediction) 방식으로 학습된다. 이들은 별도의 레이블\\n링 작업 없이 텍스트 데이터만 있으면 학습을 할 수 \\n있다는 강점을 가진다. 이러한 강점을 바탕으로, 이후 \\n문맥기반 언어모델들은 대용량의 텍스트 데이터로 사\\n전학습 (Pretraining) 하고, 이후 특정 태스크로 미세조\\n2) https://www.google.com/\\n3) https://openai.com/\\n정(Fine-tuning)하는 Pretrain-Finetune 패러다임을 중심\\n으로 발전한다.\\n초거대 언어모델 연구 문맥기반 언어모델 이후, 다\\n양한 연구들에서 모델 및 학습 데이터의 크기와 모델\\n의 성능은 긍정적인 상관 관계를 보인다는 ‘scaling \\nl a w ’  [ 4 ,  1 9 ,  2 0 ]가 밝혀지면서, 초거대 언어모델 \\n(Large Language Model, LLM) 이 등장하기 시작했다. \\nLLM은 기존 언어모델에서와 다르게, 모델의 가중치 \\n업데이트 없이도 새로운 태스크를 수행할 수 있는 \\nIn-context learning (Zero-shot learning [21]과 Few-shot \\nlearning [22]) 능력을 가진다. 이처럼 작은 크기의 모\\n델에서는 발현되지 않던 LLM의 능력을 창발 능력 \\n(Emergent ability) [23] 이라고 부른다.\\n이러한 LLM의 창발 능력을 잘 이끌어내기 위한 연\\n구 분야가 바로 프롬프트 엔지니어링이다. 프롬프트 \\n엔지니어링이란 LLM이 모델 가중치 업데이트 없이 \\n특정 태스크를 더욱 잘 해결하게 하기 위해, 입력으로 \\n주는 프롬프트를 어떻게 설계할 것인지에 대한 연구 \\n분야이다. 가장 대표적인 프롬프트 엔지니어링 연구\\n는 Chain-of-Thought (CoT) [24] 가 있다. 이는 해결하\\n고자 하는 태스크의 예시를 일련의 중간 추론 단계와 \\n함께 넣어줌으로써, 복잡한 문제를 여러 단계로 나누\\n어 해결하는 CoT 프롬프트를 제안했다. 또한, 이러한 \\n프롬프트 엔지니어링까지도 LLM으로 대체하고자 하\\n는 연구도 활발히 진행되고 있다 [25].\\n한편, LLM 의 조종성 (Steerability)을 높이기 위해, \\nInstruction Tuning [26]과 Reinforcement Learning from \\nHuman Feedback (RLHF) [27] 과 같은 학습 기법이 등\\n장했다. Instruction Tuning 은 다양한 태스크를 (지시, \\n입력, 출력) 형태의 데이터로 구성하여, 해당 데이터\\n를 통해 LLM을 미세조정하는 학습 기법이다. RLHF\\n는 LLM이 생성할 수 있는 다양한 답변들 중 사용자\\n가 선호할만한 답변을 출력하도록 LLM을 학습하는 \\n기법이다. 하지만, 사용자 선호도를 학습하기 위해 강\\n화학습을 사용하는 RLHF는 학습 과정이 복잡하다는 \\n한계가 있어서, 이를 완화하기 위한 연구도 활발히 진\\n행되고 있다 [28].\\n3. 한국어 초거대 언어모델 동향\\nGPT [21, 22, 29], PALM [30, 20] 과 같은 대규모 \\nLLM 뿐만 아니라,  F a l c o n  [ 3 1 ,  3 2 ] ,  L l a m a  [ 3 3 ,  3 4 ] ,  \\nClaude [35], Qwen [36] 과 같은 비교적 작은 크기의 \\n오픈소스 LLM이 전 세계적으로 공개되고 활발히 연\\n구되고 있다. 하지만, 이러한 LLM들은 일반적으로 한'),\n",
       " Document(metadata={'source': 'LLM_movement.pdf', 'page': 3}, page_content='2023. 11 정보과학회지 11\\n국어를 비효율적으로 토큰화하고, 학습한 한국어 토\\n큰 수가 매우 부족하다는 한계를 가진다 . 실제로, \\nGPT-3 [22] 의 경우 학습된 한국어 토큰의 비율은 \\n0.01697% 밖에 되지 않으며, 오픈소스 LLM인 Llama \\n2 [34] 의 경우도 0.06% 밖에 되지 않는다. 이에 따라, \\n한국어 사용자를 위한 한국어 LLM의 필요성이 대두\\n되고 있다.\\n이러한 필요성에 따라, 최근 많은 국내 기업에서 \\n한국어 LLM을 자체적으로 학습하기 시작했다. Naver \\nClova4)의 HyperClova [37]를 시작으로, Kakao Brain 5)\\n의 KoGPT, KT Enterprise6)의 믿음, LG AI Research 7)\\n의 Exaone, NCSOFT 8)의 V ARCO, SALTLUX9)의 \\nLuxia, 코난테크놀로지10)의 코난 LLM 등 다양한 한\\n국어 LLM이 공개되고 있다. 이들의 공통점은 자체적\\n으로 보유한 한국어 데이터와 공개되어 있는 한국어 \\n데이터, 크롤링 데이터를 적극적으로 활용하여, 한국\\n어 토큰 비율을 높여서 학습하고 있다는 것이다. 더불어 \\n업스테이지의 경우 Llama2를 파인튜닝하여Solar-0-70b  \\n모델을 개발하였고, 글로벌 LLM 플랫폼 중 하나인 \\nPoe.com에 서비스하고 있다11). 해당 모델은 한국어와 \\n영어 모두 지원하고 있다.\\n한편, 오픈소스 한국어 LLM도 존재한다. 가장 대\\n표적인 모델이 EleutherAI12)의 Polyglot-Ko [38] 이다. \\nPolyglot-Ko는 1.3B, 3.8B, 5.8B, 12.8B 의 다양한 크기\\n로 공개되어, 한국어 LLM 연구 발전에 큰 도움이 되\\n고 있다. 실제로, Polyglot-Ko를 미세조정한 KoAlpaca, \\nKORani, KULLM, NA-LLM 과 같은 한국어 LLM이 \\n활발히 연구되고 있다. 이처럼 한국어 LLM의 빠른 \\n발전을 위해서는, 위와 같은 오픈소스 한국어 LLM이 \\n더 많이 공개되는 것이 필요하다.\\n이러한 한국어 LLM 학습을 위해 사용된 한국어 공\\n개 데이터셋은 AI-Hub13), 모두의 말뭉치14), 위키백\\n과15), 청와대 국민청원16) 등이 있다. 이러한 한국어 \\n공개 데이터셋은 한국어 LLM 학습에 큰 도움이 되지\\n4) https://clova.ai/\\n5) https://www.kakaobrain.com/ \\n6) https://enterprise.kt.com \\n7) https://www.lgresearch.ai/\\n8) https://kr.ncsoft.com/\\n9) https://www.saltlux.com/\\n10) https://www.konantech.com/\\n11) https://poe.com/Solar-0-70b\\n12) https://www.eleuther.ai/\\n13) https://www.aihub.or.kr/ \\n14) https://corpus.korean.go.kr/\\n15) https://ko.wikipedia.org/\\n16) https://www1.president.go.kr/petitions/\\n만, 여전히 학습할 고품질 한국어 데이터가 부족하여 \\n한국어 LLM은 아직까지 사용자가 만족하기에는 불\\n충분한 성능을 보이고 있다.\\n4. 최신 초거대 언어모델 연구 동향\\n해당 섹션에서는 LLM의 최신 연구 동향에 대해 조\\n금 더 자세히 살펴보고자 한다. 보다 구체적으로, 학\\n계와 산업계에서 발표된 관련 최신 연구들을 1) 사전\\n학습, 2) 미세 조정, 3) 활용 및 증강 (Utilization & \\nAugmentation) 의 세 가지 관점에서 살펴보고자 한다. \\n이러한 분류는 대규모 데이터로부터 자가 지도 학습 \\n(self-supervised learning) 또는 준 지도 학습 (semi- \\nsupervised learning)을 통해 다양한 하위 태스크에 접\\n목할 수 있는 기반 모델 (foundation model) [39] 로서\\n의 LLM을 개발하는 사전 학습 과정과, 하위 태스크\\n를 보다 잘 풀기 위한 목적으로, LLM 을 도메인 또는 \\n태스크 별로 적응시키거나 (domain or task-specific \\nadaptation) 또는 사람이 기대하는 바와 일치시키는 \\n(human alignment) 미세조정 단계를 포함하고 있다. \\n마지막으로, LLM 능력을 활용하는 다양한 활용 전략\\n과 더불어, LLM 의 내재적인 한계로 지적받는 환각 \\n현상을 해결하고, 복잡한 기호 및 산술 추론 등의 태\\n스크를 해결하기 위해 외부 도구를 활용하는 전략인 \\n증강 관점의 사례들을 소개한다.\\n4.1 사전학습\\n사전학습 단계는 언어 생성 및 문맥 이해 능력 등\\n을 모델에 학습시킴으로써 LLM의 근간을 형성하는 \\n과정이다. 이 단계에서는 대량의 코퍼스와 컴퓨팅 자\\n원을 활용함으로써, LLM 으로 하여금 세상에 대한 기\\n본 지식 (world knowledge)을 습득할 수 있도록 한다. \\n결과적으로 LLM은 전통적인 언어모델에 비해 뛰어\\n난 문맥 이해력 및 상식, 기호, 논리 추론 능력을 보\\n유하게 되고 [22], 기초적인 수준의 범용적인 자연어 \\n태스크 솔버 (general-purpose natural language task \\nsolver)로서 기능할 수 있다 [40]. 해당 섹션에서는 \\nLLM의 사전학습 관련 내용 중 데이터 활용 현황 및 \\n전처리에 대해서 논의할 것이다.\\n4.1.1 데이터 활용 현황\\nLLM의 사전학습을 위한 데이터 활용 현황을 살펴\\n보면, 웹페이지, 책, 대화 데이터, 학술 데이터, 코드 \\n등 다양한 종류의 이질적인 코퍼스를 혼합하여 활용\\n하는 추세이다. 이러한 추세는 LLM의 성능에 사전학\\n습용 코퍼스의 품질뿐만 아니라 그것의 다양성이 중'),\n",
       " Document(metadata={'source': 'LLM_movement.pdf', 'page': 4}, page_content='12 특집원고  초거대 언어모델 연구 동향\\n요한 역할을 한다는 연구 결과들 [41, 42] 에 의해 뒷 \\n받침된다. 예를 들어, 2019 년에 발표된 T5 [43] 는 웹\\n페이지만을 사전학습에 활용하였으나, 이후에 공개된 \\nGPT-3 [22]는 웹페이지를 비롯한, 책 및 뉴스 데이터\\n를 함께 활용하였다. 더불어, Llama-1 65B 모델 [33]\\n에서는 사전학습 데이터 중 웹페이지가 차지하는 비\\n중이 87%에 달하지만, 남은 13%의 데이터는 대화 데\\n이터, 책 및 뉴스, 학술 데이터, 코드 데이터가 골고루 \\n차지하고 있다.\\n이러한 사전학습 데이터의 다양성을 강조하는 추세\\n에도 불구하고, LLM 의 성능 향상을 위한 다양한 코\\n퍼스의 최적 혼합 비율과 필요한 데이터 양에 관한 \\n연구는 아직 초기 단계에 머물러 있다. 이와 관련하여 \\n주목할 만한 연구로는 [41]이 있다. 해당 연구에서는 \\n사전 학습 코퍼스를 시간대, 필터링 기법, 도메인 혼\\n합 비율 조합에 따라 28개로 구분하고, 이를 대상으로 \\n1.5B 파라미터를 갖는 Transformer decoder-only 모델\\n을 학습 하였다. 이들은 사전학습 데이터와 평가 데이\\n터 사이의 시간적 차이 (temporal shift) 때문에 발생하\\n는 성능 저하는 미세조정 만으로는 극복하기 어려움\\n을 발견했으며, 데이터 품질 필터링 및 독성 필터링의 \\n중요성을 정량적으로 증명하였다. 또한, 사전 학습시 \\n이질적인 도메인 코퍼스를 활용하는 것이 전체적으로 \\n도움이 된다는 것을 재확인했다. 또 다른 사례로 \\nGPT-4 [29] 에서는 사전학습에 많은 자원과 시간이 \\n소요되는 문제를 완화하기 위해 predictable scaling 기\\n법을 소개했다. 이를 활용하면 LLM 사전학습 중에 \\n적은 양의 컴퓨팅으로 최종 성능을 정확히 예측할 수 \\n있는 것으로 알려져 있다.\\n코퍼스의 다양성을 강조하는 방향과는 별개로, 하\\n위 태스크에 특화된 LLM을 위한 사전학습에서는 관\\n련된 코퍼스의 비중을 증가시키는 전략도 활용되고 \\n있다. Google 에서 발표한 대화 어플리케이션을 위한 \\n언어 모델인 LaMDA [44]는 전체 사전학습 데이터 비\\n중의 약 절반 (50%) 가량을 대화 데이터로 할당하였\\n으며, 교육 및 콘텐츠 추천 영역에서 해당 모델의 효\\n용성을 입증하였다. 다국어 특화 LLM인 BLOOM \\n[45] 및 PaLM [30] 은 타겟 언어인 영어 이외의 다국\\n어 텍스트를 사전학습에 함께 활용함으로써, 다국어 \\n기반의 번역, 요약, QA 태스크에서 뛰어난 성능을 달\\n성하였다. 과학 도메인 특화 LLM 인 Galactica [46]는 \\n사전학습 데이터의 약 86%를 과학 데이터로 사용하\\n였고, 코드 생성에 특화된 LLM인 AlphaCode [47]는 \\n사전학습 데이터를 전부 코드 데이터로 사용하기도 \\n했다.17)\\n4.1.2 전처리\\n사전학습 시 수집한 데이터를 그대로 사용하는 것\\n은 데이터의 크기와 노이즈, 중복, 독성 데이터 등의 \\n존재로 인해 여러 문제를 야기할 수 있다. 따라서 사\\n전학습 용도로 데이터를 전처리하는 것이 필수적이\\n다. 이러한 전처리 과정은 크게 품질 필터링, 중복 제\\n거, 개인정보 제거, 토큰화의 순서로 이루어진다 [49]. \\n품질 필터링 (quality filtering) 단계에서는 수집된 데\\n이터로부터 저품질의 데이터를 걸러낸다. 해당 단계\\n에서는 고품질의 텍스트 데이터로부터 학습된 분류기\\n를 통해 저품질 데이터를 걸러내거나 [22, 30], 정교하\\n게 디자인된 규칙에 기반한 휴리스틱스 [45, 50]을 사\\n용하는 것이 일반적이다. 사전학습 데이터에 중복되\\n는 데이터가 존재할 경우 LLM의 성능을 저해하는 것\\n으로 알려져 있다 [51]. 이를 방지하기 위해서, 중복 \\n제거 (de-duplication) 단계에서는 반복되는 단어를 갖\\n는 저품질 문장이나, 단어 및 N-그램 기반 겹침 비율\\n에 기반하여 유사한 내용을 갖는 중복 문서들을 필터\\n링한다 [33, 50, 45, 52]. 또한 information leakage를 방\\n지하기 위해, 학습 데이터와 평가 데이터 사이의 중복 \\n데이터도 제거되어야 한다 [30]. 다음으로 개인정보 \\n제거 (privacy reduction) 단계가 수행된다. 대부분의 \\nLLM 사전학습 데이터는 웹 텍스트를 포함하므로 이\\n메일 주소나 전화번호 같은 민감 정보를 포함할 수 있\\n다. 실제로 몇몇 연구들 [53, 54]에서는 정교한 프롬프팅\\n을 통해서 LLM으로부터 개인 식별 정보 (Personally \\nIdentifiable Information, PII) 또는 Github Copilot \\nsecret API keys 와 같은 민감 정보를 추출할 수 있음\\n을 보인 바 있다. 이러한 이유로, LLM 을 윤리적으로 \\n사용하고 개인정보 침해 위험을 제거하기 위해 사전\\n학습 데이터에서 민감 정보를 제거하는 것이 필수적\\n이다. 마지막 전처리 단계로, 원본 텍스트를 토큰이라 \\n불리는 작은 단위의 시퀀스로 분리하는 토큰화 \\n(tokenization) 작업이 수행된다. 이 작업은 LLM이 등\\n장하기 이전의 전통적인 NLP 태스크에서도 중요한 \\n연구 분야였으며, LLM 이 도래한 이후에도 컴퓨팅 비\\n용, 언어 의존성, 정보 손실 등을 고려하여 토큰화를 \\n개선하기 위한 연구가 계속되고 있다. LLM 과 관련된 \\n토크나이저의 중요성에 관한 논의는 [55]를 참고하길 \\n바란다.\\n17) 코드 데이터의 중요성과 관련하여, 최근 연구 [48]는 CoT와 같 \\n은 LLM의 복잡한 추론 능력의 출현이, 텍스트와 차별화되는 코\\n드 데이터의 독특한 특성에 기인하는 것으로 추정하고 있다.'),\n",
       " Document(metadata={'source': 'LLM_movement.pdf', 'page': 5}, page_content='2023. 11 정보과학회지 13\\n4.1.3 기타 고려사항\\n위에서 언급한 데이터 관련 논의 외에도, LLM 사\\n전학습에는 모델의 아키텍처, 모델의 상세 설정, 목적 \\n함수, 학습 환경 세팅 및 학습 테크닉 등 여러 고려사\\n항이 있다. 해당 논의를 모두 다루는 것은 이 논문의 \\n범위를 벗어나므로, 관심 있는 독자는 다음의 서베이 \\n논문 [49]을 참고하길 바란다.\\n4.2 미세조정\\n사전학습이 완료된 LLM은 다양한 하위 태스크를 \\n해결하기 위한 기본적인 준비가 마련된 상태라 할 수 \\n있다. 그럼에도 불구하고, 최근 연구 동향에 따르면 \\nLLM을 특정 목적에 맞게 미세조정 하는 경우가 증가\\n하고 있다. 이러한 미세조정의 대표적인 전략으로는 \\nInstruction Tuning과 Alignment Tuning이 주목받고 있\\n다. 전자는 기존에 본 적 없는 태스크에 대한 일반화 \\n능력 (unseen task generalization ability) 을 향상시키는 \\n방법론이며, 후자는 LLM의 출력을 인간의 가치와 기\\n준에 부합하도록 조정하는 접근법이다. 마지막으로, \\nLLM의 계산 집약적 특성으로 인한 한계를 개선하기 \\n위한 방법론인 자원 효율적인 (resource-efficient) 미세\\n조정 방법에 대해서도 간략히 언급하고자 한다.\\n4.2.1 Instruction Tuning\\nInstruction Tuning 이란 사전학습된 LLM을 대상으\\n로 자연어로 이루어진 포맷팅된 지시사항 (formatted \\ninstructions)과 그에 대응하는 출력 (output) 쌍으로 이\\n루어진 데이터를 기반으로 미세조정하는 추가 훈련 \\n과정을 의미한다 [26]. 이것은 기존의 지도학습 패러\\n다임과 유사하나, Instruction Tuning은 비교적 적은 수\\n의 예제만으로도 뛰어난 성능 및 새로운 태스크에 대\\n한 일반화가 가능한 것으로 알려져, 더욱 효율적인 학\\n습 패러다임이라 할 수 있다 [56].\\nInstruction Tuning 을 위해서는 태스크의 의미를 \\nLLM이 이해할 수 있도록 관련 지시사항과 이에 대응\\n하는 출력으로 이루어진 자연어 포맷의 데이터를 구\\n성해야 한다. 해당 과정은 기존에 존재하는 NLP 분야\\n의 특정한 태스크 (e.g., 번역, 요약, QA 등) 관련 데이\\n터를 형식화하는 것뿐만 아니라, 일상적인 대화 데이\\n터 [27] 또는 모델로부터 합성된 데이터 [57]를 표준 \\n화하는 방법을 포함한다. 사전학습에서 데이터셋의 \\n품질이 중요한 것과 마찬가지로, 데이터셋의 형식 및 \\n품질이 Instruction Tuning의 성공 여부에 중요한 역할\\n을 하는 것으로 알려져 있으며, 지시사항의 다양성과 \\n품질이 예제의 개수보다 더 중요한 것으로 알려져 있\\n다 [58]. 특히, 태스크 당 지시사항의 개수가 너무 많\\n을 경우 오히려 오버피팅이 발생하고, 모델 성능을 저\\n해 하는 것으로 밝혀져서 Instruction Tuning 을 위한 \\n데이터 수집 및 생성에 주의가 필요하다 [59, 60, 61].\\n일반적으로 Instruction Tuning을 통해 LLM은 태스\\n크의 성능 향상을 도모할 수 있다. 최근의 연구들은 \\n[59, 62] 77M 에서 540B에 이르는 다양한 규모의 언어 \\n모델에서 Instruction Tuning을 통한 성능 향상 효과가 \\n나타났다고 보고하였다. 더불어 태스크의 일반화 측\\n면에서 볼 때, Instruction Tuning 은 언어 모델이 자연\\n어 형태의 지시사항을 이해할 수 있도록 돕는다. 이 \\n과정에서 LLM이 인간의 지시에 따라 (instruction \\nfollowing) 특정 태스크를 수행할 수 있는 형태의 창발 \\n능력을 획득하게 된다 [23]. 결과적으로, Instruction- \\ntuned LLM 은 기존 태스크뿐만 아니라 처음 보는 태\\n스크에도 적응하고 일반화하는 능력을 갖게 된다 [59]. \\n또한, 도메인 특화된 데이터셋을 이용한 Instruction \\nTuning을 통해, 일반 LLM을 특정 분야의 전문가로 \\n학습시킬 수 있다. 이러한 시도는 LLM이 범용적인 \\n태스크 솔버 (general-purpose task solver) 측면을 넘어\\n서서, 의학 [63, 64], 법률 [65], 금융 [66] 및 전자상거\\n래 [67]와 같은 특화 도메인에 대해 전문화된 태스크 \\n솔버 (domain-specialized task solver) 로 활용될 수 있\\n음을 시사한다. 보다 자세한 Instruction Tuning에 대한 \\n논의는 다음의 서베이 논문들을 참고하길 바란다 [49, \\n56, 68].\\n4.2.2 Alignment Tuning\\nLLM의 사전학습 과정을 살펴보면, 주로 MLM 또\\n는 NTP 형태의 목적함수를 가지고 학습되기 때문에, \\n주변 또는 이전 컨텍스트를 기반으로 단어를 예측함\\n으로써 학습이 이루어진다. 따라서 사전학습 과정에\\n서는 인간의 선호가 반영된다고 보기 어렵다. 이로 인\\n해 LLM은 종종 유해한 또는 잘못된 정보의 제공이나 \\n편향된 표현을 생성하기도 한다. Alignment Tuning 은 \\n이러한 LLM의 의도치 않은 행동을 방지하기 위한 방\\n법론이다. 대표적인 전략으로, LLM을 인간의 기대치에 \\n맞게 조정하는 ‘human alignment’ [27, 69, 70] 방식이 \\n있다. 그러나 이 방법은 ‘도움이 되는지 (helpfulness)’, \\n‘정직한지 (honesty)’, ‘ 무해한지 (harmlessness)’와 같\\n은 사전학습 및 Instruction Tuning의 목적함수와는 전\\n혀 다른, 주관적인 형태의 alignment criteria를 고려해야 \\n한다. 또한 alignment criteria를 올바르게 측정하기 위\\n해서는 고품질의 human feedback 수집이 필수적이라 \\n상대적으로 많은 비용이 소모된다.'),\n",
       " Document(metadata={'source': 'LLM_movement.pdf', 'page': 6}, page_content='14 특집원고  초거대 언어모델 연구 동향\\n이러한 alignment criteria 는 대부분 인간의 인식을 \\n기반으로 하므로 LLM에 직접 최적화 목표로서 차용\\n하기에는 어려움이 따른다. 이에, LLM을 인간의 가치\\n와 일치시키기 위한 방법으로 인간의 피드백을 기반\\n으로 한 강화 학습 (RLHF) [27, 69] 이 제안되었다. \\nRLHF는 수집된 인간의 피드백 데이터를 활용하여 \\nLLM을 미세조정하는 방법으로 상술한 alignment criteria\\n를 개선하는 데 유용하다. RLHF 는 강화 학습 알고리\\n즘을 사용하여 인간의 피드백을 바탕으로 보상 모델\\n을 학습하면서 LLM을 적응시킨다. InstructGPT [27] \\n또는 ChatGPT와 같은 성공 사례에서 알 수 있듯이, \\n인간을 학습 루프에 포함시키는 이러한 방법은 LLM\\n을 well-aligned 형태로 개선하는 데 중요한 역할을 한\\n다. 결과적으로, 개선된 LLM은 편향이 적고, 더욱 안\\n전한 내용을 생성하게 된다 . Alignment Tuning 이 \\nLLM의 사용성 개선을 위해 중요함에도 불구하고, 주\\n관적인 alignment criteria의 특성 상 의도치 않은 부작\\n용이 발생하기도 한다 . 실제로, alignment 과정이 \\nLLM의 기본 능력을 일정부분 감소시킬 수도 있음이 \\n밝혀졌으며, 이러한 현상을 alignment tax라고 부른다 \\n[70].\\n4.2.3 Resource-Efficient Fine-Tuning\\n다음으로 LLM의 계산 집약적 특성으로 인한 한계\\n를 개선하기 위한 방법론인 자원 효율적인 (Resource- \\nEfficient) 미세조정 방법에 대해서도 간략히 언급할 \\n것이다. LLM 들은 수많은 모델 파라미터를 가지고 있\\n기 때문에, 각 미세조정 시에 모든 파라미터를 튜닝하\\n는 것은 비용 관점에서 비효율적이다. 따라서, 가능한 \\n한 좋은 성능을 유지하면서, 학습가능한 파라미터의 \\n수를 줄이는 Parameter-Efficient Fine-Tuning (PEFT) \\n방법에 대해 살펴볼 것이다.\\nAdaptor Tuning [71, 72] 은 Transformer 구조에 \\nadaptor라 부르는 작은 신경망 모듈을 추가한다. 이 \\n과정에서 원래의 언어 모델의 파라미터는 고정된 상\\n태로, adaptor 모듈의 파라미터만 특정 태스크 목적을 \\n달성하기 위해 최적화된다. Prefix Tuning [73] 은 학습\\n가능한 연속 벡터로 구성된 일련의 prefix 시퀀스를 \\n각 Transformer 레이어에 추가한다. 이러한 prefix \\nvector들은 태스크 별로 할당되며, 일종의 가상 토큰 \\n임베딩으로 볼 수 있다. 마찬가지로 prefix 파라미터\\n만 학습되기 때문에, 파라미터 효율적인 방식의 최적\\n화가 가능하다.\\nTransformer 모델 계층에 학습가능한 벡터를 추가\\n하는 Pre-fix Tuning 과는 대조적으로, Prompt Tuning \\n[74, 75]은 학습 가능한 프롬프트 벡터를 입력 계층에 \\n추가하는 형태로 이루어진다. 입력 텍스트에 프롬프트 \\n토큰을 덧붙이고, 학습 과정에서 프롬프트 임베딩만 \\n최적화되기 때문에 효율적인 태스크 특화 미세조정이 \\n가능하다. Low-Rank Adaptation (LoRA) [76] 은 이름\\n에서 알 수 있듯이 PEFT에 low-rank approximation을 \\n차용한다. 모델의 파라미터 W0를 업데이트한다고 가\\n정하자. 이 과정은 W0 ← W0 +  ∆W로 서술할 수 있\\n다. 이때, 원래의 파라미터 행렬 W0 ∈ Rd×k는 고정한 \\n뒤, 업데이트 행렬 ∆W 를 low-rank 행렬 분해를 통\\n해 근사함으로써 업데이트 식을 다음과 같이 표현할 \\n수 있다: W 0 +  ∆W ≃ W0 +  B A ,  이때, B ∈ Rd×r, A \\n∈ Rr×k, 그리고 rank r ≪ min(d, k )이다. 결과적으로, \\nLoRA는 메모리 및 스토리지 비용을 크게 절약할 수 \\n있으며 태스크 별로 효과적인 모델 적응을 가능케 한\\n다. 지금까지 PEFT 방법을 간략하게 살펴보았다. 이\\n에 대한 보다 심도있는 논의는 다음 논문들을 참고하\\n길 바란다 [77, 78].\\n또다른 자원효율적인 미세조정 방법으로는 Memory- \\nEfficient Fine-Tuning 방법이 있다. LLM 은 많은 모델 \\n파라미터로 인해 추론 시에 대용량의 메모리를 필요\\n로 하며, 이는 LLM의 활용 관점에서 매우 큰 장애물\\n이다. 이를 해결하기 위해서, 양자화 (quantization) [79]\\n와 같은 모델 압축 (model compression) 접근법을 통\\n해 LLM의 메모리 사용량을 줄이는 방법들이 활발하\\n게 연구되고 있다 [80, 81].\\n4.3 활용 및 증강\\n4.3.1 Utilization of LLMs\\n해당 섹션에서는 LLM을 활용하는 방법들에 살펴\\n볼 것이다. LLM 을 활용하는 가장 대표적인 방법 중 \\n하나는 태스크를 해결하기 위한 적절한 프롬프팅 전\\n략을 수립하는 것이고, 대표적인 프롬프팅 방법으로\\n는 in-context learning (ICL) 이 있다 . ICL 은 시연 \\n(demonstration) 형태의 몇 가지 예시만으로 언어 모 \\n델이 태스크를 학습하게 하는 방식이다. 이는 잘 훈련\\n된 언어 모델이 시연에 기반하여 태스크의 잠재적인 \\n특성을 파악할 수 있음을 전제로 한다. ICL 을 위한 \\n프롬프트는 자연어 텍스트 형태의 태스크 설명, 시연\\n을 위한 몇 가지 예시 및 테스트 쿼리로 구성된다. 최\\n신 연구 [82]에 따르면, ICL 은 다음과 같은 다양한 이\\n점을 보유하고 있다. 첫째, 자연어 형태로 제공되는 \\n시연은 LLM과의 명확하고 이해하기 쉬운 소통 방식\\n을 제공한다 [22]. 둘째, ICL 은 유사성에서 학습하는'),\n",
       " Document(metadata={'source': 'LLM_movement.pdf', 'page': 7}, page_content='2023. 11 정보과학회지 15\\n인간의 의사결정 과정과 비슷한 측면이 있다. 마지막\\n으로, ICL 은 전통적인 지도학습 방식에 비해 training- \\nfree learning 구조를 가지고 있으므로, 새로운 태스크 \\n적응에 필요한 계산 비용을 크게 줄일 수 있으며, 확\\n장 가능한 (scalable) 특성을 지닌다.\\n이렇듯 유용한 ICL은 어떤 원리로 작동하는 것일\\n까? 연구자들은 LLM의 대표적인 활용 패러다임으로 \\n자리 잡은 ICL의 작동 원리를 규명하기 위해 다양한 \\n측면에서 가설을 제안하였다. Chan et al. (2022) [83]\\n은 ICL 능력이 학습 데이터의 분포 특성으로부터 기\\n인한다고 주장하였다. Xie et al. (2022) [84] 은 ICL을 \\n암시적 베이지안 추론으로 설명하면서, 사전학습 분\\n포가 은닉 마코프 모델의 혼합 (mixture of hidden \\nMarkov models) 형태를 따를 때 ICL 능력이 나타난다\\n는 것을 증명하기 위해 합성 데이터 세트를 구성하였\\n다. Garg et al. (2022) [85] 은 알맞은 시연 예제가 주\\n어질 경우, Transformer가 본 적 없는 선형 함수를 학\\n습할 수 있는 효과적인 학습 알고리즘을 인코딩할 수 \\n있음을 증명하였다. 그들은 또한 ICL에 인코딩된 학\\n습 알고리즘이 최소 제곱 추정기의 오류와 비슷한 수\\n준의 오류를 달성할 수 있음을 발견하였다. 또다른 연\\n구들은 ICL과 경사 하강법 (gradient descent) 사이의 \\n관계를 발견하려고 시도했으며, 특히 최근의 연구 [86]\\n는 Transformer 기반의 in-context learner가 표준 미세\\n조정 알고리즘을 암시적으로 구현할 수 있음을 발견\\n했다. Dai et al. (2023) [87] 은 Transformer attention과 \\n경사 하강법 사이의 dual form을 밝혀냈고, 이에 따라 \\nICL을 암시적 미세조정 (implicit fine-tuning)으로 이\\n해할 것을 제안하였다. 또한, GPT 기반 ICL과 실제 \\n태스크에 대한 명시적인 미세조정을 비교한 결과, 여\\n러 관점에서 ICL이 미세 조정과 유사하게 동작함을 \\n발견하였다. Olsson et al. (2022) [88] 은 Transformer \\n내에서 이전 패턴을 복사하여 다음 토큰을 완성하는 \\n유도 헤드 (induction head)들이 존재함을 밝혔고, 이\\n러한 기능이 ICL을 구현할 수 있음을 제시했다.\\nICL 관점에서, 추론 능력을 보다 강화하기 위한 연\\n구로 CoT [24] 가 소개되었다. CoT 는 입력과 출력 사\\n이의 중간 추론 단계 (intermediate reasoning steps) 을 \\n시연 형태로 추가함으로써 이루어진다. CoT 프롬프팅\\n은 입력-출력 매핑을 여러 중간 단계로 분해함으로써, \\n산술 추론 [89], 상식 추론 [90] 및 기호 추론 [24] 등의 \\n복잡한 추론 태스크에서 LLM의 성능을 향상 시킬 수 \\n있다. 최근에는 다양한 추론 경로 (multiple reasoning \\npaths)를 생성하고 도출된 답변들간의 합의점을 찾는 \\n형태로 기존의 CoT를 강화하는 연구들이 제안되기도 \\n했다 [57, 91]. 이 외에도 재귀적인 프롬프팅 [92]을 \\n통해서 compositional generalization [93] 능력이 요구\\n되는 복잡한 태스크를 해결한 사례도 존재한다.\\n4.3.2 Augmented LLMs\\nLLM은 missing token prediction 목적 함수를 최적\\n화하는 형태로 학습되기 때문에, 사실이 아니지만 구\\n조적으로 그럴듯하게 보이는 컨텐츠를 생성하는 환각 \\n등의 내재적인 한계를 지니고 있다. 또한, 자연어 코\\n퍼스를 활용하여 학습되기 때문에, 주요 NLP 태스크\\n가 아닌 산술 추론 (e.g., 1234+4321=?) 등에 약점을 \\n보이기도 한다. 모델 크기 관점에서는, LLM 의 창발 \\n능력을 발휘하기 위해서는 대용량의 지식 등을 기억\\n해야 하고 결과적으로 많은 수의 파라미터를 요구하\\n게 된다. 기존 연구 [23] 에 따르면, 파라미터 수가 적은 \\n언어 모델은 LLM에서 나타나는 in-context learning, \\ninstruction following, step-by-step reasoning 과 같은 창\\n발 능력이 발현되지 않는다고 한다. 즉, 좋은 성능의 \\nLLM은 필연적으로 많은 수의 파라미터를 요구하게 \\n되는 것이다. 이러한 내재적인 한계를 해결하고 적은 \\n수의 파라미터로도 목적을 달성할 수 있도록, LLM 을 \\n추론 (reasoning) 및 도구 사용 (use tools) 관점에서 강\\n화한 모델을 Augmented LLMs 이라 부른다 [94]. 이 \\n중에서 추론에 관한 내용은 프롬프팅을 통해서 고도\\n화된 추론 능력을 LLM에게 부여하는 것으로, 앞서 \\n4.3.1에서 논의한 ICL 및 CoT와 연관이 깊다. 따라서 \\n해당 섹션에서는 도구 사용에 대해서 주로 논의할 것\\n이다. 이외의 Augmented LLMs에 대한 심도 있는 논\\n의는 다음 논문을 참조하길 바란다 [94].\\nRetrieval Augmented Generation LLM의 파라미터는 \\n일종의 내부 메모리 모듈의 역할을 수행하는데, 특정\\n한 태스크의 해결을 위해서는 context 내에 명시되지 \\n않은 정보를 내재적으로 갖춰야 하는 경우가 많고, 그 \\n결과로 파라미터의 수가 증가하게 된다. 그러나, 만약 \\nLLM이 외부의 지식 또는 정보에 효과적으로 접근하\\n며 그 정보를 활용할 수 있다면, 모든 지식을 내부 메\\n모리에 저장하는 대신, 필요한 정보를 외부에서 추출\\n하여 사용하는 방식으로 파라미터 수를 줄일 수 있을 \\n것이다. 이러한 관점에서 볼 때, 검색 엔진과 같은 도\\n구를 외부 메모리 모듈로 활용하는 LLM은 특정 쿼리\\n와 관련된 정보를 빠르게 색인하고 추출하여 사실 기\\n반의 답변 제공 및 최신 정보를 반영이 가능하며, 불\\n필요한 지식의 저장을 최소화함으로써, 모델의 파라\\n미터 수를 획기적으로 줄일 수 있다. 이러한 방법론을'),\n",
       " Document(metadata={'source': 'LLM_movement.pdf', 'page': 8}, page_content='16 특집원고  초거대 언어모델 연구 동향\\nRetrieval Augmented Generation (RAG) [95, 96, 97, \\n98]이라 한다.\\nOther Tools L a M D A  [ 4 4 ]는 대화 애플리케이션에 \\n특화된 LLM으로, 검색 모듈, 계산기 및 번역기 등의 \\n외부 도구 호출 기능을 가지고 있다. WebGPT [99] 는 \\n웹 브라우저와의 상호작용을 통해 검색 쿼리에 사실 \\n기반의 답변과 함께 출처 정보를 제공 한다. PAL \\n[100]은 Python 인터프리터를 통한 복잡한 기호 추론 \\n기능을 제공하며, 여러 관련 벤치마크에서 뛰어난 성\\n능을 보여주었다. 다양한 종류의 API (e.g., 계산기, 달\\n력, 검색, QA, 번역 등 단순한 API에서부터 Torch/ \\nTensorFlow/HuggingFace Hub에 이르는 복잡한 API까\\n지) 호출 기능을 갖춘 연구들 [101, 102, 103, 104, \\n105] 역시 존재한다. Microsoft는 최근 발표한 position \\npaper [104] 에서 LLM과 같은 기반 모델을 뇌 (brain) \\n와 같은 중앙 통제 시스템으로 사용하여 다양한 API\\n를 연동하는 방식으로 자사 AI 제품의 청사진을 제시\\n하였다. 이외의 참고할만한 사례로는, 오픈소스 프로\\n젝트인 LangChain18)과 상용 제품인 ChatGPT Plugin\\ns19) 등이 있으며, 이들은 LLM을 기반으로 사용자가 \\n원하는 외부 API와의 연동을 쉽게 할 수 있도록 설계\\n되었다. 국내의 비슷한 사례로는 CLOV A X20)가 있으\\n나, 아직까지는 내부 및 제휴사 API만 연동된 것으로 \\n보인다. 이외에도, 단순 도구 사용을 넘어서서 LLM을 \\n활용한 가상 에이전트 [106] 및 물리적 로봇 [107] 제\\n어에 활용한 사례도 존재한다.\\n5. 초거대 언어모델 평가 동향\\n예전부터 NLP 분야에서는 인간 수준의 성능을 달\\n성하기 위하여 다양한 벤치마크 데이터셋이 개발되었\\n다. 기존 벤치마크 데이터셋은 대부분 고도의 언어 이\\n해 능력 [108, 109] 과 일반 상식기반의 추론 능력을 \\n측정하는데 초점을 맞추고 있다 [110, 111, 112, 113, \\n114]. LLM의 등장 이후, 대부분의 벤치마크 데이터셋\\n의 유효성은 크게 낮아지고 변별력이 줄어들고 있는 \\n상황이다. 한국에서도 KoBEST [115], KLUE [116] 와 \\n같은 벤치 마크 데이터셋이 물론 존재하지만, LLM 을 \\n평가하는데 적합한 형태로 보기 어렵다. 즉 LLM이 \\n얼마나 정확한 지식을 내재하고 있으며, 이를 얼마나 \\n적절하게 발현할 수 있는지에 대한 새로운 평가 척도\\n의 개발이 절실하다. 이러한 연구와 평가 방법론의 변\\n18) https://www.langchain.com\\n19) https://openai.com/blog/chatgpt-plugins\\n20) https://clova-x.naver.com\\n화는 언어 모델의 복잡성과 다양성이 증가함에 따라 \\nNLP분야에 있어서 신중하게 고려되어야 할 중요한 \\n주제이다.\\n5.1 OpenLLM Leaderboard\\n최근, HuggingFace는 OpenLLM Leaderboard를 공개\\n하면서, 복수의 벤치마크 데이터셋을 통해 LLM의 성\\n능을 체계적으로 평가하고 있다. LLM 이 여전히 정복\\n하지 못한 추론능력, 환각현상, 상식능력 등을 종합적\\n으로 검증할 수 있는 리더보드이다. 이러한 평가 방식\\n은 GLUE [108]와 SuperGLUE [109]를 중심으로 하던 \\n언어 모델 평가의 패러다임을 전환시키고 있다 . \\nHuggingFace의 OpenLLM Leaderboard 에서는 다음과 \\n같은 4가지 종류의 평가 방법을 제시한다. ARC ( AI2 \\nReasoning Challenge) [117] 는 초등학교 수준의 과학 \\n문제를 바탕으로 모델의 추론 능력을 평가한다. ARC\\n는 2,590개의 challenge set 과 5,197개의 easy set 으로 \\n구성되고 있으며, challenge set 은 단어 중첩과 정보 \\n검색 알고리즘을 활용하여 재구성함으로써 모델이 오\\n답을 선택하거나 어렵도록 유도한다. 이를 통해 모델\\n의 추론 능력을 다각도로 평가할 수 있다.\\nHellaSWAG [ 1 1 8 ]는 일반 상식을 기반으로 한 추론 \\n능력을 평가한다. 사람에게는 약 95%의 정답율을 지\\n니는 쉬운 평가이지만, 적대적 필터링으로 인해서 모\\n델에게 난해할 수 있는 선택지를 포함하였다. 이를 통\\n해 모델의 일반상식 능력을 평가할 수 있다.\\nMMLU [ 1 1 9 ]는 언어모델이 광역 도메인의 지식에 \\n대해서 사전 훈련 과정에서 얼마나 이를 습득하고 발\\n현하는지 평가한다. 인문학, 사회학, 과학 등 57개의 \\n도메인에 대해서 초등학교 수준부터 전문가의 영역까\\n지의 문제 해결을 포함한다. 총 15,908개의 질의응답 \\n쌍을 지니고 있으며, 각 도메인마다 최소 100개 이상\\n의 예시를 포함하고 있다. 이를 통해 모델의 언어종합\\n이해능력도를 측정할 수 있다.\\nTruthfulQA [120] 는 언어모델이 얼마나 높은 정보\\n력을 바탕으로 신뢰성 있는 정보를 생산하는지 평가\\n한다. 온라인에서 수집한 텍스트 정보는 허위 정보를 \\n포함할 가능성이 높으며, 모델 사이즈가 커지는 것은 \\n오히려 허위 정보를 모방할 가능성이 높아진다는 것\\n을 가정한다. 38 개의 도메인에 817개의 질의 쌍을 구\\n성하고, zero-shot 세팅을 기본으로 모델의 성능을 측\\n정 한다. 성능에 대한 평가는 진실성과 정보전달 측면\\n으로 나누어 진행하며, 사람 평가자의 점수와 해당 점\\n수로 학습을 진행한 모델을 활용한다. 이를 통해 모델\\n의 환각현상에 얼마나 강건한지 평가할 수 있다. 국내'),\n",
       " Document(metadata={'source': 'LLM_movement.pdf', 'page': 9}, page_content='2023. 11 정보과학회지 17\\n의 경우도 많은 모델들이 OpenLLM Leaderboard에 참\\n가하고 있으며, 특히 업스테이지가 두드러진 성과를 \\n보였다. 업스테이지는 해당 리더보드에서 두 번이나 \\n세계 1위의 자리를 차지한 뛰어난 성과를 보였다. 이\\n로 인해 다양한 국내 기업들이 이 리더보드에서의 경\\n쟁에 참여하게 되었으며, 국내 LLM 연구 분야 활성\\n화에 일조하였다.\\n5.2 Open Ko-LLM Leaderboard\\n한국어에서도 Open LLM 리더보드가 운영되고 있다. \\nO p e n  K o - L L M  L e a d e r b o a r d21)라는 이름으로 NIA와 \\n업스테이지에서 공동 주관을 하고 있으며, KT Cloud\\n의 인프라 지원으로 운영되고 있다 . Ko-HellaSwag, \\nKo-MMLU, Ko-Arc, Ko-Truthful QA, Ko-CommonGen \\nV2의 총 5가지 태스크로 운영되고 있다. 기존 영어 \\nOpenLLM Leaderboard에서 운영하고 있는 4개의 태\\n스크를 한국어화 시킨 데이터에, 고려대학교 자연언\\n어처리 연구실에서 구축한 Ko-CommonGen V2 밴치\\n마크 데이터셋을 추가하여, 평가 지표로 활용하고 있\\n는 리더보드이다.\\n해당 리더보드는 오픈 후 2주만에 100개가 넘는 모\\n델들이 참여할 뿐만 아니라, 한국의 대표적인 Open \\nLLM인 Polyglot-Ko [38], KULLM 22), KoAlpaca 23)와 \\n더불어 42MARU24), ETRI 25), Maum.AI 26) 등 다양한 \\n21) https://huggingface.co/spaces/upstage/open-ko-llm-leaderboard\\n22) https://github.com/nlpai-lab/KULLM  \\n23) https://github.com/Beomi/KoAlpaca\\n기업들이 참여하고 있다. 오픈 초기 모델들은 평균 점\\n수가 대부분 30점대 초반이었으나 2주만에 대부분 45\\n점을 돌파하여 50%의 큰 향상폭을 보여주고 있다. 즉 \\n다양한 모델들의 활발한 참여와 치열한 경쟁이 펼쳐\\n지고 있다. 해당 리더보드를 통해 한국어 LLM 평가 \\n생태계에 큰 기여를 하고 있으며, 현재 평가 허브 역\\n할을 감당하고 있다.\\n6. 초거대 언어모델 윤리 원칙 동향\\nLLM을 포함한 인공지능 모델에 대한 적절한 개발\\n과 올바른 활용을 위한 윤리 원칙이 필수적이다. 각 \\n국제기구, 정부, 기업에서는 인공지능 윤리 원칙을 마\\n련하여 인공지능을 개발하고 활용하는 주체들이 이를 \\n준수하도록 방향을 제시하고 있다.\\n과학기술정보통신부가 2020년 12월 23일에 마련한 \\n인공지능 (AI) 윤리기준은 최고 가치인 인간성(Humanity)\\n을 위한 3대 기본원칙과 10대 핵심요건을 제시하고 \\n있다. 3대 기본원칙에는 인간성을 구현하기 위해 인공\\n지능의 개발 및 활용 과정에서 1) 인간의 존엄성 원칙, \\n2) 사회의 공공선 원칙, 3) 기술의 합목적성 원칙을 \\n지켜야 한다는 내용을 담고 있다. 10대 핵심요건에는 \\n3대 기본원칙을 실천하고 이행할 수 있도록 인공지능 \\n개발부터 활용 전 과정에서 1) 인권 보장, 2) 프라이\\n24) https://www.42maru.ai/kr/\\n25) https://www.etri.re.kr/intro.html \\n26) https://maum.ai/\\n표 1 AI 윤리 원칙\\nHumanity Human-centred Responsibility \\nAccountability\\nPrivacy \\nSecurity Safety Reliability Transparenc y  \\nExplainability\\nOECD O O O O O\\nUNESCO O O O O\\nEuropean Commission O O O O O\\n미국 국가정보장실 OO O\\n호주 산업과학자원부 OO O O O\\n대한민국 과학기술정보통신부 OO O O O\\n사우디 데이터인공지능청 OO O O O\\nGoogle O O O\\nMicrosoft O O O O\\nIBM O O O\\nAdobe O O\\nOpenAI O O\\nLG AI Research O O O O\\nKakao O O O\\nNAVER O O O O\\nSAMSUNG O O O\\nSK Telecom O O O O\\nUpstage O O O O O')]"
      ]
     },
     "execution_count": 16,
     "metadata": {},
     "output_type": "execute_result"
    }
   ],
   "source": [
    "text_splitter = CharacterTextSplitter(separator=\"\\n\\n\", chunk_size=100, chunk_overlap=10, length_function=len, is_separator_regex=False)\n",
    "\n",
    "splits = text_splitter.split_documents(docs)\n",
    "splits[:10] # 청킹된 내용을 상위 10개까지 출력"
   ]
  },
  {
   "cell_type": "markdown",
   "id": "f37036f2-0f7a-4672-a330-edf4cb4a3dc3",
   "metadata": {},
   "source": [
    "**초기화 시 전달되는 매개변수**\n",
    "1. `separator=\"\\n\\n\"`\n",
    "- 텍스트를 분할할 때 기준이 되는 **구분자**(separator)를 지정합니다.\n",
    "- `\"\\n\\n\"`: 두 줄 간격으로 나눕니다. 텍스트가 문단 단위로 분리될 가능성이 높습니다.\n",
    "- 이 값을 변경하면 다른 기준(예: 마침표 `\".\"`, 쉼표 `\",\"` 등)으로 텍스트를 분할할 수도 있습니다.\n",
    "\n",
    "2. `chunk_size=100`\n",
    "- 각 텍스트 조각의 최대 길이를 지정합니다.\n",
    "- 여기서는 각 텍스트 조각이 최대 **100개의 문자**를 포함하도록 설정됩니다.\n",
    "- 너무 길면 처리 효율이 떨어지고, 너무 짧으면 문맥 정보가 부족해질 수 있습니다.\n",
    "\n",
    "3. `chunk_overlap=10`\n",
    "- 각 조각 사이에 겹치는 문자의 수를 지정합니다.\n",
    "- 여기서는 조각 간에 **10개의 문자**가 겹칩니다.\n",
    "- 겹침이 있으면 문맥 연결이 더 자연스러워져 문서 내용의 연속성을 유지할 수 있습니다.\n",
    "\n",
    "4. `length_function=len`\n",
    "- 각 텍스트의 길이를 계산하는 함수입니다.\n",
    "- 기본값은 `len`, 즉 문자의 개수를 기준으로 길이를 측정합니다.\n",
    "- 특정 요구사항에 따라 단어 수를 기준으로 하는 함수 등을 사용할 수도 있습니다.\n",
    "\n",
    "5. `is_separator_regex=False`\n",
    "- `separator`가 정규 표현식인지 여부를 나타냅니다.\n",
    "- `False`로 설정되어 있으므로, 여기서는 `\"\\n\\n\"`을 문자 그대로 사용합니다."
   ]
  },
  {
   "cell_type": "markdown",
   "id": "b727222a-70ac-4afb-9b20-ed9b23c2266d",
   "metadata": {},
   "source": [
    "## B. RecursiveCharacterTextSplitter\n",
    "&emsp;이 코드는 LangChain의 **RecursiveCharacterTextSplitter**를 사용하여 PDF 문서에서 추출된 텍스트를 <u>계층적으로 텍스트 조각(chunk)</u>으로 나누는 작업을 수행합니다."
   ]
  },
  {
   "cell_type": "code",
   "execution_count": 18,
   "id": "35d25a2c-66d0-4ced-9bff-f42010b5f25e",
   "metadata": {},
   "outputs": [
    {
     "data": {
      "text/plain": [
       "[Document(metadata={'source': 'LLM_movement.pdf', 'page': 0}, page_content='8 특집원고  초거대 언어모델 연구 동향\\n초거대 언어모델 연구 동향\\n업스테이지  박찬준*･이원성･김윤기･김지후･이활석\\n \\n1. 서  론1)'),\n",
       " Document(metadata={'source': 'LLM_movement.pdf', 'page': 0}, page_content='1. 서  론1)\\nChatGPT1)와 같은 초거대 언어모델(Large Language \\nModel, LLM) 의 등장으로 기존에 병렬적으로 연구되'),\n",
       " Document(metadata={'source': 'LLM_movement.pdf', 'page': 0}, page_content='던 다양한 자연언어처리 하위 분야들이 하나의 모델\\n로 처리되고 있으며, 태스크 수렴 현상 (Converge)이 \\n발생하고 있다. 즉 하나의 LLM으로 번역, 요약, 질의'),\n",
       " Document(metadata={'source': 'LLM_movement.pdf', 'page': 0}, page_content='응답, 형태소분석 등의 작업을 모두 처리할 수 있게 \\n되었다. 프롬프트 (Prompt)를 어떻게 모델에게 입력하\\n느냐에 따라서 LLM의 다양한 능력들이 창발되고, 이'),\n",
       " Document(metadata={'source': 'LLM_movement.pdf', 'page': 0}, page_content='에 따라 사용자의 목적에 맞는 출력을 생성하는 패러\\n다임을 맞이하게 되었다 [1].\\nLLM은 최근 몇 년 간의 연구 동향에 따라 뛰어난'),\n",
       " Document(metadata={'source': 'LLM_movement.pdf', 'page': 0}, page_content='발전을 이루고 있다. 이러한 발전은 몇 가지 주요한 \\n요인에 기반하고 있으며, 이 요인들은 현대 자연언어'),\n",
       " Document(metadata={'source': 'LLM_movement.pdf', 'page': 0}, page_content='처리 (Natural Language Processing, NLP) 연구의 핵심\\n적인 추세로 간주된다. 첫째로, 데이터의 양적 확대는'),\n",
       " Document(metadata={'source': 'LLM_movement.pdf', 'page': 0}, page_content='무시할 수 없는 중요한 요인이다. 디지털화의 선도로, \\n텍스트 데이터의 양이 기하급수적으로 증가하였고, \\n이는 연구의 질적 변화를 가져왔다. 대규모 코퍼스의'),\n",
       " Document(metadata={'source': 'LLM_movement.pdf', 'page': 0}, page_content='활용은 LLM의 일반화 능력을 향상시키며, 다양한 맥\\n락과 주제에 대한 깊은 학습을 가능하게 한다. 둘째\\n로, 컴퓨팅 기술의 진보는 LLM의 발전에 있어 결정'),\n",
       " Document(metadata={'source': 'LLM_movement.pdf', 'page': 0}, page_content='적이었다. 특히, Graphics Processing Unit (GPU) 및 \\nTensor Processing Unit (TPU) 와 같은 고성능 병렬 처')]"
      ]
     },
     "execution_count": 18,
     "metadata": {},
     "output_type": "execute_result"
    }
   ],
   "source": [
    "recursive_text_splitter = RecursiveCharacterTextSplitter(chunk_size=100, chunk_overlap=10, length_function=len, is_separator_regex=False)\n",
    "\n",
    "splits = recursive_text_splitter.split_documents(docs)\n",
    "splits[:10] # 청킹된 내용을 상위 10개까지 출력"
   ]
  },
  {
   "cell_type": "markdown",
   "id": "ddc2da4d-bbd2-4f1c-ae20-cf405e3d1a2e",
   "metadata": {},
   "source": [
    "&emsp;**초기화 시 전달되는 매개변수**\n",
    "1. `chunk_size=100`\n",
    "- 각 조각(chunk)의 최대 길이를 설정합니다.\n",
    "- 여기서는 **100개의 문자**를 넘지 않도록 제한합니다.\n",
    "2. `chunk_overlap=10`\n",
    "- 조각 간에 **10개의 문자**를 겹치도록 설정합니다.\n",
    "- 겹침을 통해 조각 간 문맥 연결성을 유지합니다.\n",
    "3. `length_function=len`\n",
    "- 조각의 길이를 계산하는 데 사용하는 함수입니다.\n",
    "- 기본적으로 Python의 `len()` 함수로, 문자의 개수를 기준으로 길이를 측정합니다.\n",
    "4. `is_separator_regex=False`\n",
    "- 구분자가 정규 표현식인지 여부를 나타냅니다.\n",
    "- `False`로 설정되었으므로, 구분자는 단순한 문자열로 취급됩니다."
   ]
  },
  {
   "cell_type": "markdown",
   "id": "5a7e7390-a154-4ec6-a3c9-9dab2e8162e1",
   "metadata": {},
   "source": [
    "# 5. 벡터 임베딩 생성\n",
    "&emsp;이 코드는 OpenAI에서 제공하는 **임베딩 모델**을 초기화하여 텍스트를 벡터로 변환하기 위한 객체를 생성합니다. 벡터는 텍스트의 의미를 수치적으로 표현한 고차원 공간의 점으로, 검색, 분류, 추천 등 다양한 NLP(Natural Language Processing) 작업에서 활용됩니다."
   ]
  },
  {
   "cell_type": "code",
   "execution_count": 20,
   "id": "b15e857e-1f22-4014-ba5a-285817de651f",
   "metadata": {},
   "outputs": [],
   "source": [
    "# OpenAI 임베딩 모델 초기화\n",
    "embeddings = OpenAIEmbeddings(model=\"text-embedding-3-large\")"
   ]
  },
  {
   "cell_type": "markdown",
   "id": "090b1244-6fef-47f3-bdc6-c25c729f6aad",
   "metadata": {},
   "source": [
    "- `OpenAIEmbeddings` 객체는 OpenAI의 임베딩 API를 호출하여 텍스트를 고차원 벡터로 변환하는 데 사용됩니다.\n",
    "- `\"text-embedding-3-large\"`는 정교한 텍스트 이해를 위한 대규모 임베딩 모델로, 유사성 계산, 검색, 분류 작업 등에 유용합니다.\n",
    "- 이 코드는 임베딩 생성의 초기화 단계이며, 이후 텍스트 데이터를 실제로 벡터화하여 NLP 작업에 활용할 수 있습니다."
   ]
  },
  {
   "cell_type": "markdown",
   "id": "365132e8-fdaa-4216-a21d-da5b48d3464b",
   "metadata": {},
   "source": [
    "# 6. 벡터 스토어 생성\n",
    "&emsp;이 코드는 LangChain에서 제공하는 <u>FAISS(벡터 검색 라이브러리)</u>를 사용하여 주어진 문서를 벡터화하고, 이를 기반으로 검색 가능한 <u>벡터 스토어(vector store)</u>를 생성하는 작업을 수행합니다."
   ]
  },
  {
   "cell_type": "code",
   "execution_count": 22,
   "id": "0b221365-6dc3-43ce-bbdb-36df1fb1ca56",
   "metadata": {},
   "outputs": [],
   "source": [
    "vectorstore = FAISS.from_documents(documents=splits, embedding=embeddings)"
   ]
  },
  {
   "cell_type": "markdown",
   "id": "ffd8decf-1683-4a00-8204-a43519f812a3",
   "metadata": {},
   "source": [
    "- 이 코드는 **문서를 벡터화하고 검색 가능한 데이터베이스를 생성**하는 작업입니다.\n",
    "- FAISS는 효율적인 벡터 검색을 제공하며, 텍스트 유사도 기반 검색과 질의응답 시스템에서 중요한 역할을 합니다.\n",
    "- `vectorstore` 객체를 사용해 텍스트 검색, 추천, 클러스터링 등의 작업을 수행할 수 있습니다."
   ]
  },
  {
   "cell_type": "markdown",
   "id": "55ef647b-d877-429c-aa9b-891532af01f1",
   "metadata": {},
   "source": [
    "# 7. FAISS를 Retriever로 변환\n",
    "&emsp;이 코드는 `vectorstore` 객체를 기반으로 **질의응답(retrieval)** 작업을 수행할 수 있는 <u>retriever(검색기)</u>를 생성하는 작업입니다.   \n",
    "&emsp;사용자가 입력한 질의(query)에 대해 **유사성 검색**을 수행하여 가장 적합한 결과를 반환할 수 있도록 구성합니다."
   ]
  },
  {
   "cell_type": "code",
   "execution_count": 24,
   "id": "2690fce4-4664-45e0-a3a6-bd8e5636574d",
   "metadata": {},
   "outputs": [],
   "source": [
    "retriever = vectorstore.as_retriever(search_type=\"similarity\", search_kwargs={\"k\": 1})"
   ]
  },
  {
   "cell_type": "markdown",
   "id": "12e48cd8-20d8-4301-89e2-d516ddde586f",
   "metadata": {},
   "source": [
    "- 이 코드는 `vectorstore`에서 유사성 검색을 수행할 수 있는 **retriever** 객체를 생성합니다.\n",
    "- 검색기는 사용자가 입력한 질의를 기반으로 가장 유사한 데이터를 반환합니다.\n",
    "- `search_type=\"similarity\"`와 `search_kwargs={\"k\": 1}` 설정을 통해 유사성 검색 방식과 반환 결과 개수를 제어합니다.\n",
    "- 이 작업은 질의응답 시스템, 검색 엔진, 추천 시스템 등 다양한 NLP 응용 프로그램에서 유용하게 활용됩니다."
   ]
  },
  {
   "cell_type": "markdown",
   "id": "4c13acfa-fb0e-4984-9eca-4ab5397cd4ba",
   "metadata": {},
   "source": [
    "# 8. 프롬프트 템플릿 정의\n",
    "&emsp;이 코드는 LangChain에서 `ChatPromptTemplate`을 사용해 **대화형 프롬프트 템플릿**을 정의하는 작업입니다.   \n",
    "&emsp;주어진 <u>문맥(context)</u>에 기반하여 사용자의 질문에 답변하도록 시스템의 작동 방식을 설계합니다."
   ]
  },
  {
   "cell_type": "code",
   "execution_count": 26,
   "id": "c8c7fbf6-6f49-4e49-86bc-6de183ce47a2",
   "metadata": {},
   "outputs": [],
   "source": [
    "# 프롬프트 템플릿 정의\n",
    "contextual_prompt = ChatPromptTemplate.from_messages([\n",
    "    (\"system\", \"Answer the question using only the following context.\"),\n",
    "    (\"user\", \"Context: {context}\\\\n\\\\nQuestion: {question}\")\n",
    "])"
   ]
  },
  {
   "cell_type": "markdown",
   "id": "9e5d8bed-eea6-41c5-a5e7-d0a92786f571",
   "metadata": {},
   "source": [
    "- 이 코드는 LangChain의 `ChatPromptTemplate`을 사용해 문맥 기반 질의응답 프롬프트를 정의합니다.\n",
    "- `system` 메시지로 모델 행동 지침을 설정하고, `user` 메시지에서 동적 변수를 사용해 구체적인 입력 템플릿을 만듭니다.\n",
    "- 실제 실행 시 `{context}`와 `{question}`에 데이터를 채워 넣고, 이를 통해 질문에 답변할 수 있습니다.\n",
    "- 주로 **제한된 문맥에서 정보 제공**이 필요한 응용 프로그램에서 사용됩니다."
   ]
  },
  {
   "cell_type": "markdown",
   "id": "95a17742-e90f-4f2a-840f-ce9a2e80af04",
   "metadata": {},
   "source": [
    "# 9. RAG 체인 구성\n",
    "&emsp;이 코드는 **RAG (Retrieval-Augmented Generation)** 프로세스를 구현하기 위해 세 가지 주요 컴포넌트를 정의하고 이를 체인으로 조합하여 사용자의 질문에 대한 답변을 생성하는 방법을 보여줍니다. 아래에서 각 클래스와 구성 요소에 대해 상세히 설명하겠습니다."
   ]
  },
  {
   "cell_type": "code",
   "execution_count": 28,
   "id": "a45817f0-6ca5-4770-93d3-87e7bb7628f2",
   "metadata": {},
   "outputs": [
    {
     "name": "stderr",
     "output_type": "stream",
     "text": [
      "/var/folders/68/_ywmb1rs51q00tc0pgjyrl580000gn/T/ipykernel_2261/54323330.py:37: LangChainDeprecationWarning: The class `LLMChain` was deprecated in LangChain 0.1.17 and will be removed in 1.0. Use :meth:`~RunnableSequence, e.g., `prompt | llm`` instead.\n",
      "  llm_chain = LLMChain(llm=model, prompt=contextual_prompt)\n"
     ]
    }
   ],
   "source": [
    "class SimplePassThrough:\n",
    "    def invoke(self, inputs, **kwargs):\n",
    "        return inputs\n",
    "\n",
    "class ContextToPrompt:\n",
    "    def __init__(self, prompt_template):\n",
    "        self.prompt_template = prompt_template\n",
    "    \n",
    "    def invoke(self, inputs):\n",
    "        # 문서 내용을 텍스트로 변환\n",
    "        if isinstance(inputs, list):\n",
    "            context_text = \"\\n\".join([doc.page_content for doc in inputs])\n",
    "        else:\n",
    "            context_text = inputs\n",
    "\n",
    "        # 문서 내용을 텍스트로 변환\n",
    "        formatted_prompt = self.prompt_template.format_messages(\n",
    "            context=context_text,\n",
    "            question=inputs.get(\"question\", \"\")\n",
    "        )\n",
    "        return formatted_prompt\n",
    "\n",
    "# Retriever를 invoke() 메서드로 래핑하는 클래스 정의\n",
    "class RetrieverWrapper:\n",
    "    def __init__(self, retriever):\n",
    "        self.retriever = retriever\n",
    "\n",
    "    def invoke(self, inputs):\n",
    "        if isinstance(inputs, dict):\n",
    "            query = inputs.get(\"question\", \"\")\n",
    "        else:\n",
    "            query = inputs\n",
    "        # 검색 수행\n",
    "        response_docs = self.retriever.get_relevant_documents(query)\n",
    "        return response_docs\n",
    "\n",
    "llm_chain = LLMChain(llm=model, prompt=contextual_prompt)\n",
    "\n",
    "# RAG 체인 설정\n",
    "rag_chain_debug = {\n",
    "    \"context\": RetrieverWrapper(retriever),\n",
    "    \"prompt\": ContextToPrompt(contextual_prompt),\n",
    "    \"llm\": model\n",
    "}"
   ]
  },
  {
   "cell_type": "markdown",
   "id": "725db4dc-1f83-4298-8aff-bdb2a3e31655",
   "metadata": {},
   "source": [
    "&emsp;이 코드는 **RAG 체인**을 구성하기 위해 각 단계별로 클래스를 정의하고 이를 조합했습니다:\n",
    "\n",
    "- `RetrieverWrapper`: 문서 검색 담당.\n",
    "- `ContextToPrompt`: 검색된 문서를 기반으로 프롬프트 생성.\n",
    "- `LLMChain`: 프롬프트를 기반으로 LLM 응답 생성. 전체 체인은 문서 검색부터 답변 생성까지의 RAG 프로세스를 자동화하여 효율적으로 작동하도록 설계되었습니다."
   ]
  },
  {
   "cell_type": "markdown",
   "id": "0f6a3290-a0de-4b0b-9602-bb596f8c1be7",
   "metadata": {},
   "source": [
    "# 10. 챗봇 구동 확인\n",
    "&emsp;이 코드는 질의응답 루프를 구현합니다. 사용자는 반복적으로 질문을 입력할 수 있으며, 시스템은 RAG 체인을 통해 관련 문서를 검색하고 답변을 생성하여 출력합니다. 아래에서 각 부분을 상세히 설명합니다."
   ]
  },
  {
   "cell_type": "code",
   "execution_count": 30,
   "id": "274a625c-f571-4b5c-904f-15b9e2612edb",
   "metadata": {},
   "outputs": [
    {
     "name": "stdout",
     "output_type": "stream",
     "text": [
      "========================\n"
     ]
    },
    {
     "name": "stdout",
     "output_type": "stream",
     "text": [
      "질문을 입력하세요 :  종료\n"
     ]
    },
    {
     "name": "stdout",
     "output_type": "stream",
     "text": [
      "프롬프트를 종료합니다.\n"
     ]
    }
   ],
   "source": [
    "# 챗봇 구동\n",
    "while True:\n",
    "    print(\"========================\")\n",
    "    query = input(\"질문을 입력하세요 : \")\n",
    "    \n",
    "    if query.lower() in [\"종료\", \"quit\"]: # 종료하고 싶을 경우\n",
    "        print(\"프롬프트를 종료합니다.\")\n",
    "        break\n",
    "\n",
    "    # 1. Retriever로 관련 문서 검색\n",
    "    response_docs = rag_chain_debug[\"context\"].invoke({\"question\": query})\n",
    "\n",
    "    # 2. 문서를 프롬프트로 변환\n",
    "    prompt_messages = rag_chain_debug[\"prompt\"].invoke({\n",
    "        \"context\": response_docs,\n",
    "        \"question\": query\n",
    "    })\n",
    "\n",
    "    # 3. LLM으로 응답 생성\n",
    "    response = rag_chain_debug[\"llm\"].invoke(prompt_messages)\n",
    "    \n",
    "    print(\"\\n답변:\")\n",
    "    print(response.content)\n",
    "    "
   ]
  },
  {
   "cell_type": "markdown",
   "id": "4c8a5606-0c07-4e90-ad8c-cbfb989d592b",
   "metadata": {},
   "source": [
    "1. **사용자 입력**:\n",
    "사용자가 질문을 입력하면 `query`에 저장됩니다.   \n",
    "2. **문서 검색**:\n",
    "`RetrieverWrapper`를 사용해 입력 질문과 관련된 문서를 검색하고 `response_docs`를 반환합니다.   \n",
    "3. **프롬프트 생성**:\n",
    "검색된 문서와 질문을 기반으로 프롬프트 템플릿을 채우고 `prompt_messages`를 생성합니다.   \n",
    "4. **답변 생성**:\n",
    "GPT-4 모델에 프롬프트를 전달하여 답변을 생성하고 `response.content`에 저장합니다.   \n",
    "5. **결과 출력**:\n",
    "생성된 답변을 사용자에게 출력합니다.   \n",
    "6. **루프 반복**:\n",
    "새로운 질문을 입력받아 위 과정을 반복합니다."
   ]
  }
 ],
 "metadata": {
  "kernelspec": {
   "display_name": "myenv",
   "language": "python",
   "name": "myenv"
  },
  "language_info": {
   "codemirror_mode": {
    "name": "ipython",
    "version": 3
   },
   "file_extension": ".py",
   "mimetype": "text/x-python",
   "name": "python",
   "nbconvert_exporter": "python",
   "pygments_lexer": "ipython3",
   "version": "3.12.4"
  }
 },
 "nbformat": 4,
 "nbformat_minor": 5
}
